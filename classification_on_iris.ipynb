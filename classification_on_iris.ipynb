{
 "cells": [
  {
   "cell_type": "code",
   "execution_count": 1,
   "metadata": {},
   "outputs": [],
   "source": [
    "import pandas as pd\n",
    "from sklearn.metrics import classification_report"
   ]
  },
  {
   "cell_type": "markdown",
   "metadata": {},
   "source": [
    "# Load iris dataset"
   ]
  },
  {
   "cell_type": "markdown",
   "metadata": {},
   "source": [
    "Download here: https://www.kaggle.com/uciml/iris"
   ]
  },
  {
   "cell_type": "code",
   "execution_count": 2,
   "metadata": {},
   "outputs": [],
   "source": [
    "iris_full = pd.read_csv(\"dataset/Iris.csv\")"
   ]
  },
  {
   "cell_type": "code",
   "execution_count": 3,
   "metadata": {},
   "outputs": [],
   "source": [
    "iris_full = iris_full.set_index(\"Id\")"
   ]
  },
  {
   "cell_type": "code",
   "execution_count": 4,
   "metadata": {},
   "outputs": [
    {
     "data": {
      "text/html": [
       "<div>\n",
       "<style scoped>\n",
       "    .dataframe tbody tr th:only-of-type {\n",
       "        vertical-align: middle;\n",
       "    }\n",
       "\n",
       "    .dataframe tbody tr th {\n",
       "        vertical-align: top;\n",
       "    }\n",
       "\n",
       "    .dataframe thead th {\n",
       "        text-align: right;\n",
       "    }\n",
       "</style>\n",
       "<table border=\"1\" class=\"dataframe\">\n",
       "  <thead>\n",
       "    <tr style=\"text-align: right;\">\n",
       "      <th></th>\n",
       "      <th>SepalLengthCm</th>\n",
       "      <th>SepalWidthCm</th>\n",
       "      <th>PetalLengthCm</th>\n",
       "      <th>PetalWidthCm</th>\n",
       "      <th>Species</th>\n",
       "    </tr>\n",
       "    <tr>\n",
       "      <th>Id</th>\n",
       "      <th></th>\n",
       "      <th></th>\n",
       "      <th></th>\n",
       "      <th></th>\n",
       "      <th></th>\n",
       "    </tr>\n",
       "  </thead>\n",
       "  <tbody>\n",
       "    <tr>\n",
       "      <th>1</th>\n",
       "      <td>5.1</td>\n",
       "      <td>3.5</td>\n",
       "      <td>1.4</td>\n",
       "      <td>0.2</td>\n",
       "      <td>Iris-setosa</td>\n",
       "    </tr>\n",
       "    <tr>\n",
       "      <th>2</th>\n",
       "      <td>4.9</td>\n",
       "      <td>3.0</td>\n",
       "      <td>1.4</td>\n",
       "      <td>0.2</td>\n",
       "      <td>Iris-setosa</td>\n",
       "    </tr>\n",
       "    <tr>\n",
       "      <th>3</th>\n",
       "      <td>4.7</td>\n",
       "      <td>3.2</td>\n",
       "      <td>1.3</td>\n",
       "      <td>0.2</td>\n",
       "      <td>Iris-setosa</td>\n",
       "    </tr>\n",
       "    <tr>\n",
       "      <th>4</th>\n",
       "      <td>4.6</td>\n",
       "      <td>3.1</td>\n",
       "      <td>1.5</td>\n",
       "      <td>0.2</td>\n",
       "      <td>Iris-setosa</td>\n",
       "    </tr>\n",
       "    <tr>\n",
       "      <th>5</th>\n",
       "      <td>5.0</td>\n",
       "      <td>3.6</td>\n",
       "      <td>1.4</td>\n",
       "      <td>0.2</td>\n",
       "      <td>Iris-setosa</td>\n",
       "    </tr>\n",
       "  </tbody>\n",
       "</table>\n",
       "</div>"
      ],
      "text/plain": [
       "    SepalLengthCm  SepalWidthCm  PetalLengthCm  PetalWidthCm      Species\n",
       "Id                                                                       \n",
       "1             5.1           3.5            1.4           0.2  Iris-setosa\n",
       "2             4.9           3.0            1.4           0.2  Iris-setosa\n",
       "3             4.7           3.2            1.3           0.2  Iris-setosa\n",
       "4             4.6           3.1            1.5           0.2  Iris-setosa\n",
       "5             5.0           3.6            1.4           0.2  Iris-setosa"
      ]
     },
     "execution_count": 4,
     "metadata": {},
     "output_type": "execute_result"
    }
   ],
   "source": [
    "iris_full.head()"
   ]
  },
  {
   "cell_type": "code",
   "execution_count": 5,
   "metadata": {},
   "outputs": [],
   "source": [
    "iris_full[\"Species\"] = pd.Categorical(iris_full[\"Species\"])\n",
    "iris_full[\"Species_code\"] = iris_full[\"Species\"].cat.codes"
   ]
  },
  {
   "cell_type": "code",
   "execution_count": 6,
   "metadata": {},
   "outputs": [],
   "source": [
    "target_names = iris_full[\"Species\"].unique()"
   ]
  },
  {
   "cell_type": "code",
   "execution_count": 7,
   "metadata": {},
   "outputs": [
    {
     "data": {
      "text/plain": [
       "['Iris-setosa', 'Iris-versicolor', 'Iris-virginica']\n",
       "Categories (3, object): ['Iris-setosa', 'Iris-versicolor', 'Iris-virginica']"
      ]
     },
     "execution_count": 7,
     "metadata": {},
     "output_type": "execute_result"
    }
   ],
   "source": [
    "target_names"
   ]
  },
  {
   "cell_type": "markdown",
   "metadata": {},
   "source": [
    "# Take sample"
   ]
  },
  {
   "cell_type": "code",
   "execution_count": 8,
   "metadata": {},
   "outputs": [],
   "source": [
    "# take sample as training data\n",
    "data_train = iris_full.sample(frac=0.8, random_state=786)\n",
    "data_train = data_train.drop(\"Species\", axis=1) # we alread make Species code \n",
    "# test data\n",
    "data_test = iris_full.drop(data_train.index)"
   ]
  },
  {
   "cell_type": "code",
   "execution_count": 9,
   "metadata": {},
   "outputs": [
    {
     "data": {
      "text/plain": [
       "SepalLengthCm    120\n",
       "SepalWidthCm     120\n",
       "PetalLengthCm    120\n",
       "PetalWidthCm     120\n",
       "Species_code     120\n",
       "dtype: int64"
      ]
     },
     "execution_count": 9,
     "metadata": {},
     "output_type": "execute_result"
    }
   ],
   "source": [
    "data_train.count()"
   ]
  },
  {
   "cell_type": "code",
   "execution_count": 10,
   "metadata": {},
   "outputs": [
    {
     "data": {
      "text/plain": [
       "SepalLengthCm    30\n",
       "SepalWidthCm     30\n",
       "PetalLengthCm    30\n",
       "PetalWidthCm     30\n",
       "Species          30\n",
       "Species_code     30\n",
       "dtype: int64"
      ]
     },
     "execution_count": 10,
     "metadata": {},
     "output_type": "execute_result"
    }
   ],
   "source": [
    "data_test.count()"
   ]
  },
  {
   "cell_type": "code",
   "execution_count": 11,
   "metadata": {},
   "outputs": [
    {
     "data": {
      "text/plain": [
       "SepalLengthCm    150\n",
       "SepalWidthCm     150\n",
       "PetalLengthCm    150\n",
       "PetalWidthCm     150\n",
       "Species          150\n",
       "Species_code     150\n",
       "dtype: int64"
      ]
     },
     "execution_count": 11,
     "metadata": {},
     "output_type": "execute_result"
    }
   ],
   "source": [
    "iris_full.count()"
   ]
  },
  {
   "cell_type": "code",
   "execution_count": 12,
   "metadata": {},
   "outputs": [
    {
     "name": "stdout",
     "output_type": "stream",
     "text": [
      "Data for Modeling: (120, 5)\n",
      "Unseen Data For Predictions (30, 6)\n"
     ]
    }
   ],
   "source": [
    "print('Data for Modeling: ' + str(data_train.shape))\n",
    "print('Unseen Data For Predictions ' + str(data_test.shape))"
   ]
  },
  {
   "cell_type": "markdown",
   "metadata": {},
   "source": [
    "# Setup classifier environment"
   ]
  },
  {
   "cell_type": "code",
   "execution_count": 13,
   "metadata": {},
   "outputs": [],
   "source": [
    "from pycaret.classification import *"
   ]
  },
  {
   "cell_type": "code",
   "execution_count": 33,
   "metadata": {},
   "outputs": [
    {
     "data": {
      "text/html": [
       "<style  type=\"text/css\" >\n",
       "</style><table id=\"T_388bf38e_1bf7_11eb_b08a_b42e99813c1a\" ><thead>    <tr>        <th class=\"blank level0\" ></th>        <th class=\"col_heading level0 col0\" >Description</th>        <th class=\"col_heading level0 col1\" >Value</th>    </tr></thead><tbody>\n",
       "                <tr>\n",
       "                        <th id=\"T_388bf38e_1bf7_11eb_b08a_b42e99813c1alevel0_row0\" class=\"row_heading level0 row0\" >0</th>\n",
       "                        <td id=\"T_388bf38e_1bf7_11eb_b08a_b42e99813c1arow0_col0\" class=\"data row0 col0\" >session_id</td>\n",
       "                        <td id=\"T_388bf38e_1bf7_11eb_b08a_b42e99813c1arow0_col1\" class=\"data row0 col1\" >123</td>\n",
       "            </tr>\n",
       "            <tr>\n",
       "                        <th id=\"T_388bf38e_1bf7_11eb_b08a_b42e99813c1alevel0_row1\" class=\"row_heading level0 row1\" >1</th>\n",
       "                        <td id=\"T_388bf38e_1bf7_11eb_b08a_b42e99813c1arow1_col0\" class=\"data row1 col0\" >Target</td>\n",
       "                        <td id=\"T_388bf38e_1bf7_11eb_b08a_b42e99813c1arow1_col1\" class=\"data row1 col1\" >Species_code</td>\n",
       "            </tr>\n",
       "            <tr>\n",
       "                        <th id=\"T_388bf38e_1bf7_11eb_b08a_b42e99813c1alevel0_row2\" class=\"row_heading level0 row2\" >2</th>\n",
       "                        <td id=\"T_388bf38e_1bf7_11eb_b08a_b42e99813c1arow2_col0\" class=\"data row2 col0\" >Target Type</td>\n",
       "                        <td id=\"T_388bf38e_1bf7_11eb_b08a_b42e99813c1arow2_col1\" class=\"data row2 col1\" >Multiclass</td>\n",
       "            </tr>\n",
       "            <tr>\n",
       "                        <th id=\"T_388bf38e_1bf7_11eb_b08a_b42e99813c1alevel0_row3\" class=\"row_heading level0 row3\" >3</th>\n",
       "                        <td id=\"T_388bf38e_1bf7_11eb_b08a_b42e99813c1arow3_col0\" class=\"data row3 col0\" >Label Encoded</td>\n",
       "                        <td id=\"T_388bf38e_1bf7_11eb_b08a_b42e99813c1arow3_col1\" class=\"data row3 col1\" >None</td>\n",
       "            </tr>\n",
       "            <tr>\n",
       "                        <th id=\"T_388bf38e_1bf7_11eb_b08a_b42e99813c1alevel0_row4\" class=\"row_heading level0 row4\" >4</th>\n",
       "                        <td id=\"T_388bf38e_1bf7_11eb_b08a_b42e99813c1arow4_col0\" class=\"data row4 col0\" >Original Data</td>\n",
       "                        <td id=\"T_388bf38e_1bf7_11eb_b08a_b42e99813c1arow4_col1\" class=\"data row4 col1\" >(120, 5)</td>\n",
       "            </tr>\n",
       "            <tr>\n",
       "                        <th id=\"T_388bf38e_1bf7_11eb_b08a_b42e99813c1alevel0_row5\" class=\"row_heading level0 row5\" >5</th>\n",
       "                        <td id=\"T_388bf38e_1bf7_11eb_b08a_b42e99813c1arow5_col0\" class=\"data row5 col0\" >Missing Values</td>\n",
       "                        <td id=\"T_388bf38e_1bf7_11eb_b08a_b42e99813c1arow5_col1\" class=\"data row5 col1\" >False</td>\n",
       "            </tr>\n",
       "            <tr>\n",
       "                        <th id=\"T_388bf38e_1bf7_11eb_b08a_b42e99813c1alevel0_row6\" class=\"row_heading level0 row6\" >6</th>\n",
       "                        <td id=\"T_388bf38e_1bf7_11eb_b08a_b42e99813c1arow6_col0\" class=\"data row6 col0\" >Numeric Features</td>\n",
       "                        <td id=\"T_388bf38e_1bf7_11eb_b08a_b42e99813c1arow6_col1\" class=\"data row6 col1\" >4</td>\n",
       "            </tr>\n",
       "            <tr>\n",
       "                        <th id=\"T_388bf38e_1bf7_11eb_b08a_b42e99813c1alevel0_row7\" class=\"row_heading level0 row7\" >7</th>\n",
       "                        <td id=\"T_388bf38e_1bf7_11eb_b08a_b42e99813c1arow7_col0\" class=\"data row7 col0\" >Categorical Features</td>\n",
       "                        <td id=\"T_388bf38e_1bf7_11eb_b08a_b42e99813c1arow7_col1\" class=\"data row7 col1\" >0</td>\n",
       "            </tr>\n",
       "            <tr>\n",
       "                        <th id=\"T_388bf38e_1bf7_11eb_b08a_b42e99813c1alevel0_row8\" class=\"row_heading level0 row8\" >8</th>\n",
       "                        <td id=\"T_388bf38e_1bf7_11eb_b08a_b42e99813c1arow8_col0\" class=\"data row8 col0\" >Ordinal Features</td>\n",
       "                        <td id=\"T_388bf38e_1bf7_11eb_b08a_b42e99813c1arow8_col1\" class=\"data row8 col1\" >False</td>\n",
       "            </tr>\n",
       "            <tr>\n",
       "                        <th id=\"T_388bf38e_1bf7_11eb_b08a_b42e99813c1alevel0_row9\" class=\"row_heading level0 row9\" >9</th>\n",
       "                        <td id=\"T_388bf38e_1bf7_11eb_b08a_b42e99813c1arow9_col0\" class=\"data row9 col0\" >High Cardinality Features</td>\n",
       "                        <td id=\"T_388bf38e_1bf7_11eb_b08a_b42e99813c1arow9_col1\" class=\"data row9 col1\" >False</td>\n",
       "            </tr>\n",
       "            <tr>\n",
       "                        <th id=\"T_388bf38e_1bf7_11eb_b08a_b42e99813c1alevel0_row10\" class=\"row_heading level0 row10\" >10</th>\n",
       "                        <td id=\"T_388bf38e_1bf7_11eb_b08a_b42e99813c1arow10_col0\" class=\"data row10 col0\" >High Cardinality Method</td>\n",
       "                        <td id=\"T_388bf38e_1bf7_11eb_b08a_b42e99813c1arow10_col1\" class=\"data row10 col1\" >None</td>\n",
       "            </tr>\n",
       "            <tr>\n",
       "                        <th id=\"T_388bf38e_1bf7_11eb_b08a_b42e99813c1alevel0_row11\" class=\"row_heading level0 row11\" >11</th>\n",
       "                        <td id=\"T_388bf38e_1bf7_11eb_b08a_b42e99813c1arow11_col0\" class=\"data row11 col0\" >Transformed Train Set</td>\n",
       "                        <td id=\"T_388bf38e_1bf7_11eb_b08a_b42e99813c1arow11_col1\" class=\"data row11 col1\" >(83, 4)</td>\n",
       "            </tr>\n",
       "            <tr>\n",
       "                        <th id=\"T_388bf38e_1bf7_11eb_b08a_b42e99813c1alevel0_row12\" class=\"row_heading level0 row12\" >12</th>\n",
       "                        <td id=\"T_388bf38e_1bf7_11eb_b08a_b42e99813c1arow12_col0\" class=\"data row12 col0\" >Transformed Test Set</td>\n",
       "                        <td id=\"T_388bf38e_1bf7_11eb_b08a_b42e99813c1arow12_col1\" class=\"data row12 col1\" >(37, 4)</td>\n",
       "            </tr>\n",
       "            <tr>\n",
       "                        <th id=\"T_388bf38e_1bf7_11eb_b08a_b42e99813c1alevel0_row13\" class=\"row_heading level0 row13\" >13</th>\n",
       "                        <td id=\"T_388bf38e_1bf7_11eb_b08a_b42e99813c1arow13_col0\" class=\"data row13 col0\" >Shuffle Train-Test</td>\n",
       "                        <td id=\"T_388bf38e_1bf7_11eb_b08a_b42e99813c1arow13_col1\" class=\"data row13 col1\" >True</td>\n",
       "            </tr>\n",
       "            <tr>\n",
       "                        <th id=\"T_388bf38e_1bf7_11eb_b08a_b42e99813c1alevel0_row14\" class=\"row_heading level0 row14\" >14</th>\n",
       "                        <td id=\"T_388bf38e_1bf7_11eb_b08a_b42e99813c1arow14_col0\" class=\"data row14 col0\" >Stratify Train-Test</td>\n",
       "                        <td id=\"T_388bf38e_1bf7_11eb_b08a_b42e99813c1arow14_col1\" class=\"data row14 col1\" >False</td>\n",
       "            </tr>\n",
       "            <tr>\n",
       "                        <th id=\"T_388bf38e_1bf7_11eb_b08a_b42e99813c1alevel0_row15\" class=\"row_heading level0 row15\" >15</th>\n",
       "                        <td id=\"T_388bf38e_1bf7_11eb_b08a_b42e99813c1arow15_col0\" class=\"data row15 col0\" >Fold Generator</td>\n",
       "                        <td id=\"T_388bf38e_1bf7_11eb_b08a_b42e99813c1arow15_col1\" class=\"data row15 col1\" >StratifiedKFold</td>\n",
       "            </tr>\n",
       "            <tr>\n",
       "                        <th id=\"T_388bf38e_1bf7_11eb_b08a_b42e99813c1alevel0_row16\" class=\"row_heading level0 row16\" >16</th>\n",
       "                        <td id=\"T_388bf38e_1bf7_11eb_b08a_b42e99813c1arow16_col0\" class=\"data row16 col0\" >Fold Number</td>\n",
       "                        <td id=\"T_388bf38e_1bf7_11eb_b08a_b42e99813c1arow16_col1\" class=\"data row16 col1\" >10</td>\n",
       "            </tr>\n",
       "            <tr>\n",
       "                        <th id=\"T_388bf38e_1bf7_11eb_b08a_b42e99813c1alevel0_row17\" class=\"row_heading level0 row17\" >17</th>\n",
       "                        <td id=\"T_388bf38e_1bf7_11eb_b08a_b42e99813c1arow17_col0\" class=\"data row17 col0\" >CPU Jobs</td>\n",
       "                        <td id=\"T_388bf38e_1bf7_11eb_b08a_b42e99813c1arow17_col1\" class=\"data row17 col1\" >-1</td>\n",
       "            </tr>\n",
       "            <tr>\n",
       "                        <th id=\"T_388bf38e_1bf7_11eb_b08a_b42e99813c1alevel0_row18\" class=\"row_heading level0 row18\" >18</th>\n",
       "                        <td id=\"T_388bf38e_1bf7_11eb_b08a_b42e99813c1arow18_col0\" class=\"data row18 col0\" >Use GPU</td>\n",
       "                        <td id=\"T_388bf38e_1bf7_11eb_b08a_b42e99813c1arow18_col1\" class=\"data row18 col1\" >False</td>\n",
       "            </tr>\n",
       "            <tr>\n",
       "                        <th id=\"T_388bf38e_1bf7_11eb_b08a_b42e99813c1alevel0_row19\" class=\"row_heading level0 row19\" >19</th>\n",
       "                        <td id=\"T_388bf38e_1bf7_11eb_b08a_b42e99813c1arow19_col0\" class=\"data row19 col0\" >Log Experiment</td>\n",
       "                        <td id=\"T_388bf38e_1bf7_11eb_b08a_b42e99813c1arow19_col1\" class=\"data row19 col1\" >False</td>\n",
       "            </tr>\n",
       "            <tr>\n",
       "                        <th id=\"T_388bf38e_1bf7_11eb_b08a_b42e99813c1alevel0_row20\" class=\"row_heading level0 row20\" >20</th>\n",
       "                        <td id=\"T_388bf38e_1bf7_11eb_b08a_b42e99813c1arow20_col0\" class=\"data row20 col0\" >Experiment Name</td>\n",
       "                        <td id=\"T_388bf38e_1bf7_11eb_b08a_b42e99813c1arow20_col1\" class=\"data row20 col1\" >clf-default-name</td>\n",
       "            </tr>\n",
       "            <tr>\n",
       "                        <th id=\"T_388bf38e_1bf7_11eb_b08a_b42e99813c1alevel0_row21\" class=\"row_heading level0 row21\" >21</th>\n",
       "                        <td id=\"T_388bf38e_1bf7_11eb_b08a_b42e99813c1arow21_col0\" class=\"data row21 col0\" >USI</td>\n",
       "                        <td id=\"T_388bf38e_1bf7_11eb_b08a_b42e99813c1arow21_col1\" class=\"data row21 col1\" >8fb6</td>\n",
       "            </tr>\n",
       "            <tr>\n",
       "                        <th id=\"T_388bf38e_1bf7_11eb_b08a_b42e99813c1alevel0_row22\" class=\"row_heading level0 row22\" >22</th>\n",
       "                        <td id=\"T_388bf38e_1bf7_11eb_b08a_b42e99813c1arow22_col0\" class=\"data row22 col0\" >Imputation Type</td>\n",
       "                        <td id=\"T_388bf38e_1bf7_11eb_b08a_b42e99813c1arow22_col1\" class=\"data row22 col1\" >simple</td>\n",
       "            </tr>\n",
       "            <tr>\n",
       "                        <th id=\"T_388bf38e_1bf7_11eb_b08a_b42e99813c1alevel0_row23\" class=\"row_heading level0 row23\" >23</th>\n",
       "                        <td id=\"T_388bf38e_1bf7_11eb_b08a_b42e99813c1arow23_col0\" class=\"data row23 col0\" >Iterative Imputation Iteration</td>\n",
       "                        <td id=\"T_388bf38e_1bf7_11eb_b08a_b42e99813c1arow23_col1\" class=\"data row23 col1\" >None</td>\n",
       "            </tr>\n",
       "            <tr>\n",
       "                        <th id=\"T_388bf38e_1bf7_11eb_b08a_b42e99813c1alevel0_row24\" class=\"row_heading level0 row24\" >24</th>\n",
       "                        <td id=\"T_388bf38e_1bf7_11eb_b08a_b42e99813c1arow24_col0\" class=\"data row24 col0\" >Numeric Imputer</td>\n",
       "                        <td id=\"T_388bf38e_1bf7_11eb_b08a_b42e99813c1arow24_col1\" class=\"data row24 col1\" >mean</td>\n",
       "            </tr>\n",
       "            <tr>\n",
       "                        <th id=\"T_388bf38e_1bf7_11eb_b08a_b42e99813c1alevel0_row25\" class=\"row_heading level0 row25\" >25</th>\n",
       "                        <td id=\"T_388bf38e_1bf7_11eb_b08a_b42e99813c1arow25_col0\" class=\"data row25 col0\" >Iterative Imputation Numeric Model</td>\n",
       "                        <td id=\"T_388bf38e_1bf7_11eb_b08a_b42e99813c1arow25_col1\" class=\"data row25 col1\" >None</td>\n",
       "            </tr>\n",
       "            <tr>\n",
       "                        <th id=\"T_388bf38e_1bf7_11eb_b08a_b42e99813c1alevel0_row26\" class=\"row_heading level0 row26\" >26</th>\n",
       "                        <td id=\"T_388bf38e_1bf7_11eb_b08a_b42e99813c1arow26_col0\" class=\"data row26 col0\" >Categorical Imputer</td>\n",
       "                        <td id=\"T_388bf38e_1bf7_11eb_b08a_b42e99813c1arow26_col1\" class=\"data row26 col1\" >constant</td>\n",
       "            </tr>\n",
       "            <tr>\n",
       "                        <th id=\"T_388bf38e_1bf7_11eb_b08a_b42e99813c1alevel0_row27\" class=\"row_heading level0 row27\" >27</th>\n",
       "                        <td id=\"T_388bf38e_1bf7_11eb_b08a_b42e99813c1arow27_col0\" class=\"data row27 col0\" >Iterative Imputation Categorical Model</td>\n",
       "                        <td id=\"T_388bf38e_1bf7_11eb_b08a_b42e99813c1arow27_col1\" class=\"data row27 col1\" >None</td>\n",
       "            </tr>\n",
       "            <tr>\n",
       "                        <th id=\"T_388bf38e_1bf7_11eb_b08a_b42e99813c1alevel0_row28\" class=\"row_heading level0 row28\" >28</th>\n",
       "                        <td id=\"T_388bf38e_1bf7_11eb_b08a_b42e99813c1arow28_col0\" class=\"data row28 col0\" >Unknown Categoricals Handling</td>\n",
       "                        <td id=\"T_388bf38e_1bf7_11eb_b08a_b42e99813c1arow28_col1\" class=\"data row28 col1\" >least_frequent</td>\n",
       "            </tr>\n",
       "            <tr>\n",
       "                        <th id=\"T_388bf38e_1bf7_11eb_b08a_b42e99813c1alevel0_row29\" class=\"row_heading level0 row29\" >29</th>\n",
       "                        <td id=\"T_388bf38e_1bf7_11eb_b08a_b42e99813c1arow29_col0\" class=\"data row29 col0\" >Normalize</td>\n",
       "                        <td id=\"T_388bf38e_1bf7_11eb_b08a_b42e99813c1arow29_col1\" class=\"data row29 col1\" >False</td>\n",
       "            </tr>\n",
       "            <tr>\n",
       "                        <th id=\"T_388bf38e_1bf7_11eb_b08a_b42e99813c1alevel0_row30\" class=\"row_heading level0 row30\" >30</th>\n",
       "                        <td id=\"T_388bf38e_1bf7_11eb_b08a_b42e99813c1arow30_col0\" class=\"data row30 col0\" >Normalize Method</td>\n",
       "                        <td id=\"T_388bf38e_1bf7_11eb_b08a_b42e99813c1arow30_col1\" class=\"data row30 col1\" >None</td>\n",
       "            </tr>\n",
       "            <tr>\n",
       "                        <th id=\"T_388bf38e_1bf7_11eb_b08a_b42e99813c1alevel0_row31\" class=\"row_heading level0 row31\" >31</th>\n",
       "                        <td id=\"T_388bf38e_1bf7_11eb_b08a_b42e99813c1arow31_col0\" class=\"data row31 col0\" >Transformation</td>\n",
       "                        <td id=\"T_388bf38e_1bf7_11eb_b08a_b42e99813c1arow31_col1\" class=\"data row31 col1\" >False</td>\n",
       "            </tr>\n",
       "            <tr>\n",
       "                        <th id=\"T_388bf38e_1bf7_11eb_b08a_b42e99813c1alevel0_row32\" class=\"row_heading level0 row32\" >32</th>\n",
       "                        <td id=\"T_388bf38e_1bf7_11eb_b08a_b42e99813c1arow32_col0\" class=\"data row32 col0\" >Transformation Method</td>\n",
       "                        <td id=\"T_388bf38e_1bf7_11eb_b08a_b42e99813c1arow32_col1\" class=\"data row32 col1\" >None</td>\n",
       "            </tr>\n",
       "            <tr>\n",
       "                        <th id=\"T_388bf38e_1bf7_11eb_b08a_b42e99813c1alevel0_row33\" class=\"row_heading level0 row33\" >33</th>\n",
       "                        <td id=\"T_388bf38e_1bf7_11eb_b08a_b42e99813c1arow33_col0\" class=\"data row33 col0\" >PCA</td>\n",
       "                        <td id=\"T_388bf38e_1bf7_11eb_b08a_b42e99813c1arow33_col1\" class=\"data row33 col1\" >False</td>\n",
       "            </tr>\n",
       "            <tr>\n",
       "                        <th id=\"T_388bf38e_1bf7_11eb_b08a_b42e99813c1alevel0_row34\" class=\"row_heading level0 row34\" >34</th>\n",
       "                        <td id=\"T_388bf38e_1bf7_11eb_b08a_b42e99813c1arow34_col0\" class=\"data row34 col0\" >PCA Method</td>\n",
       "                        <td id=\"T_388bf38e_1bf7_11eb_b08a_b42e99813c1arow34_col1\" class=\"data row34 col1\" >None</td>\n",
       "            </tr>\n",
       "            <tr>\n",
       "                        <th id=\"T_388bf38e_1bf7_11eb_b08a_b42e99813c1alevel0_row35\" class=\"row_heading level0 row35\" >35</th>\n",
       "                        <td id=\"T_388bf38e_1bf7_11eb_b08a_b42e99813c1arow35_col0\" class=\"data row35 col0\" >PCA Components</td>\n",
       "                        <td id=\"T_388bf38e_1bf7_11eb_b08a_b42e99813c1arow35_col1\" class=\"data row35 col1\" >None</td>\n",
       "            </tr>\n",
       "            <tr>\n",
       "                        <th id=\"T_388bf38e_1bf7_11eb_b08a_b42e99813c1alevel0_row36\" class=\"row_heading level0 row36\" >36</th>\n",
       "                        <td id=\"T_388bf38e_1bf7_11eb_b08a_b42e99813c1arow36_col0\" class=\"data row36 col0\" >Ignore Low Variance</td>\n",
       "                        <td id=\"T_388bf38e_1bf7_11eb_b08a_b42e99813c1arow36_col1\" class=\"data row36 col1\" >False</td>\n",
       "            </tr>\n",
       "            <tr>\n",
       "                        <th id=\"T_388bf38e_1bf7_11eb_b08a_b42e99813c1alevel0_row37\" class=\"row_heading level0 row37\" >37</th>\n",
       "                        <td id=\"T_388bf38e_1bf7_11eb_b08a_b42e99813c1arow37_col0\" class=\"data row37 col0\" >Combine Rare Levels</td>\n",
       "                        <td id=\"T_388bf38e_1bf7_11eb_b08a_b42e99813c1arow37_col1\" class=\"data row37 col1\" >False</td>\n",
       "            </tr>\n",
       "            <tr>\n",
       "                        <th id=\"T_388bf38e_1bf7_11eb_b08a_b42e99813c1alevel0_row38\" class=\"row_heading level0 row38\" >38</th>\n",
       "                        <td id=\"T_388bf38e_1bf7_11eb_b08a_b42e99813c1arow38_col0\" class=\"data row38 col0\" >Rare Level Threshold</td>\n",
       "                        <td id=\"T_388bf38e_1bf7_11eb_b08a_b42e99813c1arow38_col1\" class=\"data row38 col1\" >None</td>\n",
       "            </tr>\n",
       "            <tr>\n",
       "                        <th id=\"T_388bf38e_1bf7_11eb_b08a_b42e99813c1alevel0_row39\" class=\"row_heading level0 row39\" >39</th>\n",
       "                        <td id=\"T_388bf38e_1bf7_11eb_b08a_b42e99813c1arow39_col0\" class=\"data row39 col0\" >Numeric Binning</td>\n",
       "                        <td id=\"T_388bf38e_1bf7_11eb_b08a_b42e99813c1arow39_col1\" class=\"data row39 col1\" >False</td>\n",
       "            </tr>\n",
       "            <tr>\n",
       "                        <th id=\"T_388bf38e_1bf7_11eb_b08a_b42e99813c1alevel0_row40\" class=\"row_heading level0 row40\" >40</th>\n",
       "                        <td id=\"T_388bf38e_1bf7_11eb_b08a_b42e99813c1arow40_col0\" class=\"data row40 col0\" >Remove Outliers</td>\n",
       "                        <td id=\"T_388bf38e_1bf7_11eb_b08a_b42e99813c1arow40_col1\" class=\"data row40 col1\" >False</td>\n",
       "            </tr>\n",
       "            <tr>\n",
       "                        <th id=\"T_388bf38e_1bf7_11eb_b08a_b42e99813c1alevel0_row41\" class=\"row_heading level0 row41\" >41</th>\n",
       "                        <td id=\"T_388bf38e_1bf7_11eb_b08a_b42e99813c1arow41_col0\" class=\"data row41 col0\" >Outliers Threshold</td>\n",
       "                        <td id=\"T_388bf38e_1bf7_11eb_b08a_b42e99813c1arow41_col1\" class=\"data row41 col1\" >None</td>\n",
       "            </tr>\n",
       "            <tr>\n",
       "                        <th id=\"T_388bf38e_1bf7_11eb_b08a_b42e99813c1alevel0_row42\" class=\"row_heading level0 row42\" >42</th>\n",
       "                        <td id=\"T_388bf38e_1bf7_11eb_b08a_b42e99813c1arow42_col0\" class=\"data row42 col0\" >Remove Multicollinearity</td>\n",
       "                        <td id=\"T_388bf38e_1bf7_11eb_b08a_b42e99813c1arow42_col1\" class=\"data row42 col1\" >False</td>\n",
       "            </tr>\n",
       "            <tr>\n",
       "                        <th id=\"T_388bf38e_1bf7_11eb_b08a_b42e99813c1alevel0_row43\" class=\"row_heading level0 row43\" >43</th>\n",
       "                        <td id=\"T_388bf38e_1bf7_11eb_b08a_b42e99813c1arow43_col0\" class=\"data row43 col0\" >Multicollinearity Threshold</td>\n",
       "                        <td id=\"T_388bf38e_1bf7_11eb_b08a_b42e99813c1arow43_col1\" class=\"data row43 col1\" >None</td>\n",
       "            </tr>\n",
       "            <tr>\n",
       "                        <th id=\"T_388bf38e_1bf7_11eb_b08a_b42e99813c1alevel0_row44\" class=\"row_heading level0 row44\" >44</th>\n",
       "                        <td id=\"T_388bf38e_1bf7_11eb_b08a_b42e99813c1arow44_col0\" class=\"data row44 col0\" >Clustering</td>\n",
       "                        <td id=\"T_388bf38e_1bf7_11eb_b08a_b42e99813c1arow44_col1\" class=\"data row44 col1\" >False</td>\n",
       "            </tr>\n",
       "            <tr>\n",
       "                        <th id=\"T_388bf38e_1bf7_11eb_b08a_b42e99813c1alevel0_row45\" class=\"row_heading level0 row45\" >45</th>\n",
       "                        <td id=\"T_388bf38e_1bf7_11eb_b08a_b42e99813c1arow45_col0\" class=\"data row45 col0\" >Clustering Iteration</td>\n",
       "                        <td id=\"T_388bf38e_1bf7_11eb_b08a_b42e99813c1arow45_col1\" class=\"data row45 col1\" >None</td>\n",
       "            </tr>\n",
       "            <tr>\n",
       "                        <th id=\"T_388bf38e_1bf7_11eb_b08a_b42e99813c1alevel0_row46\" class=\"row_heading level0 row46\" >46</th>\n",
       "                        <td id=\"T_388bf38e_1bf7_11eb_b08a_b42e99813c1arow46_col0\" class=\"data row46 col0\" >Polynomial Features</td>\n",
       "                        <td id=\"T_388bf38e_1bf7_11eb_b08a_b42e99813c1arow46_col1\" class=\"data row46 col1\" >False</td>\n",
       "            </tr>\n",
       "            <tr>\n",
       "                        <th id=\"T_388bf38e_1bf7_11eb_b08a_b42e99813c1alevel0_row47\" class=\"row_heading level0 row47\" >47</th>\n",
       "                        <td id=\"T_388bf38e_1bf7_11eb_b08a_b42e99813c1arow47_col0\" class=\"data row47 col0\" >Polynomial Degree</td>\n",
       "                        <td id=\"T_388bf38e_1bf7_11eb_b08a_b42e99813c1arow47_col1\" class=\"data row47 col1\" >None</td>\n",
       "            </tr>\n",
       "            <tr>\n",
       "                        <th id=\"T_388bf38e_1bf7_11eb_b08a_b42e99813c1alevel0_row48\" class=\"row_heading level0 row48\" >48</th>\n",
       "                        <td id=\"T_388bf38e_1bf7_11eb_b08a_b42e99813c1arow48_col0\" class=\"data row48 col0\" >Trignometry Features</td>\n",
       "                        <td id=\"T_388bf38e_1bf7_11eb_b08a_b42e99813c1arow48_col1\" class=\"data row48 col1\" >False</td>\n",
       "            </tr>\n",
       "            <tr>\n",
       "                        <th id=\"T_388bf38e_1bf7_11eb_b08a_b42e99813c1alevel0_row49\" class=\"row_heading level0 row49\" >49</th>\n",
       "                        <td id=\"T_388bf38e_1bf7_11eb_b08a_b42e99813c1arow49_col0\" class=\"data row49 col0\" >Polynomial Threshold</td>\n",
       "                        <td id=\"T_388bf38e_1bf7_11eb_b08a_b42e99813c1arow49_col1\" class=\"data row49 col1\" >None</td>\n",
       "            </tr>\n",
       "            <tr>\n",
       "                        <th id=\"T_388bf38e_1bf7_11eb_b08a_b42e99813c1alevel0_row50\" class=\"row_heading level0 row50\" >50</th>\n",
       "                        <td id=\"T_388bf38e_1bf7_11eb_b08a_b42e99813c1arow50_col0\" class=\"data row50 col0\" >Group Features</td>\n",
       "                        <td id=\"T_388bf38e_1bf7_11eb_b08a_b42e99813c1arow50_col1\" class=\"data row50 col1\" >False</td>\n",
       "            </tr>\n",
       "            <tr>\n",
       "                        <th id=\"T_388bf38e_1bf7_11eb_b08a_b42e99813c1alevel0_row51\" class=\"row_heading level0 row51\" >51</th>\n",
       "                        <td id=\"T_388bf38e_1bf7_11eb_b08a_b42e99813c1arow51_col0\" class=\"data row51 col0\" >Feature Selection</td>\n",
       "                        <td id=\"T_388bf38e_1bf7_11eb_b08a_b42e99813c1arow51_col1\" class=\"data row51 col1\" >False</td>\n",
       "            </tr>\n",
       "            <tr>\n",
       "                        <th id=\"T_388bf38e_1bf7_11eb_b08a_b42e99813c1alevel0_row52\" class=\"row_heading level0 row52\" >52</th>\n",
       "                        <td id=\"T_388bf38e_1bf7_11eb_b08a_b42e99813c1arow52_col0\" class=\"data row52 col0\" >Features Selection Threshold</td>\n",
       "                        <td id=\"T_388bf38e_1bf7_11eb_b08a_b42e99813c1arow52_col1\" class=\"data row52 col1\" >None</td>\n",
       "            </tr>\n",
       "            <tr>\n",
       "                        <th id=\"T_388bf38e_1bf7_11eb_b08a_b42e99813c1alevel0_row53\" class=\"row_heading level0 row53\" >53</th>\n",
       "                        <td id=\"T_388bf38e_1bf7_11eb_b08a_b42e99813c1arow53_col0\" class=\"data row53 col0\" >Feature Interaction</td>\n",
       "                        <td id=\"T_388bf38e_1bf7_11eb_b08a_b42e99813c1arow53_col1\" class=\"data row53 col1\" >False</td>\n",
       "            </tr>\n",
       "            <tr>\n",
       "                        <th id=\"T_388bf38e_1bf7_11eb_b08a_b42e99813c1alevel0_row54\" class=\"row_heading level0 row54\" >54</th>\n",
       "                        <td id=\"T_388bf38e_1bf7_11eb_b08a_b42e99813c1arow54_col0\" class=\"data row54 col0\" >Feature Ratio</td>\n",
       "                        <td id=\"T_388bf38e_1bf7_11eb_b08a_b42e99813c1arow54_col1\" class=\"data row54 col1\" >False</td>\n",
       "            </tr>\n",
       "            <tr>\n",
       "                        <th id=\"T_388bf38e_1bf7_11eb_b08a_b42e99813c1alevel0_row55\" class=\"row_heading level0 row55\" >55</th>\n",
       "                        <td id=\"T_388bf38e_1bf7_11eb_b08a_b42e99813c1arow55_col0\" class=\"data row55 col0\" >Interaction Threshold</td>\n",
       "                        <td id=\"T_388bf38e_1bf7_11eb_b08a_b42e99813c1arow55_col1\" class=\"data row55 col1\" >None</td>\n",
       "            </tr>\n",
       "            <tr>\n",
       "                        <th id=\"T_388bf38e_1bf7_11eb_b08a_b42e99813c1alevel0_row56\" class=\"row_heading level0 row56\" >56</th>\n",
       "                        <td id=\"T_388bf38e_1bf7_11eb_b08a_b42e99813c1arow56_col0\" class=\"data row56 col0\" >Fix Imbalance</td>\n",
       "                        <td id=\"T_388bf38e_1bf7_11eb_b08a_b42e99813c1arow56_col1\" class=\"data row56 col1\" >False</td>\n",
       "            </tr>\n",
       "            <tr>\n",
       "                        <th id=\"T_388bf38e_1bf7_11eb_b08a_b42e99813c1alevel0_row57\" class=\"row_heading level0 row57\" >57</th>\n",
       "                        <td id=\"T_388bf38e_1bf7_11eb_b08a_b42e99813c1arow57_col0\" class=\"data row57 col0\" >Fix Imbalance Method</td>\n",
       "                        <td id=\"T_388bf38e_1bf7_11eb_b08a_b42e99813c1arow57_col1\" class=\"data row57 col1\" >SMOTE</td>\n",
       "            </tr>\n",
       "    </tbody></table>"
      ],
      "text/plain": [
       "<pandas.io.formats.style.Styler at 0x7f5b037e2790>"
      ]
     },
     "metadata": {},
     "output_type": "display_data"
    }
   ],
   "source": [
    "exp_clf_iris = setup(data = data_train, target = 'Species_code',  session_id=123)"
   ]
  },
  {
   "cell_type": "code",
   "execution_count": 34,
   "metadata": {},
   "outputs": [
    {
     "data": {
      "text/html": [
       "<style  type=\"text/css\" >\n",
       "    #T_3ccb6b47_1bf7_11eb_b08a_b42e99813c1a th {\n",
       "          text-align: left;\n",
       "    }#T_3ccb6b47_1bf7_11eb_b08a_b42e99813c1arow0_col0,#T_3ccb6b47_1bf7_11eb_b08a_b42e99813c1arow1_col0,#T_3ccb6b47_1bf7_11eb_b08a_b42e99813c1arow1_col1,#T_3ccb6b47_1bf7_11eb_b08a_b42e99813c1arow1_col3,#T_3ccb6b47_1bf7_11eb_b08a_b42e99813c1arow1_col4,#T_3ccb6b47_1bf7_11eb_b08a_b42e99813c1arow1_col5,#T_3ccb6b47_1bf7_11eb_b08a_b42e99813c1arow1_col6,#T_3ccb6b47_1bf7_11eb_b08a_b42e99813c1arow1_col7,#T_3ccb6b47_1bf7_11eb_b08a_b42e99813c1arow2_col0,#T_3ccb6b47_1bf7_11eb_b08a_b42e99813c1arow2_col1,#T_3ccb6b47_1bf7_11eb_b08a_b42e99813c1arow2_col3,#T_3ccb6b47_1bf7_11eb_b08a_b42e99813c1arow2_col4,#T_3ccb6b47_1bf7_11eb_b08a_b42e99813c1arow2_col5,#T_3ccb6b47_1bf7_11eb_b08a_b42e99813c1arow2_col6,#T_3ccb6b47_1bf7_11eb_b08a_b42e99813c1arow2_col7,#T_3ccb6b47_1bf7_11eb_b08a_b42e99813c1arow3_col0,#T_3ccb6b47_1bf7_11eb_b08a_b42e99813c1arow3_col1,#T_3ccb6b47_1bf7_11eb_b08a_b42e99813c1arow3_col3,#T_3ccb6b47_1bf7_11eb_b08a_b42e99813c1arow3_col4,#T_3ccb6b47_1bf7_11eb_b08a_b42e99813c1arow3_col5,#T_3ccb6b47_1bf7_11eb_b08a_b42e99813c1arow3_col6,#T_3ccb6b47_1bf7_11eb_b08a_b42e99813c1arow3_col7,#T_3ccb6b47_1bf7_11eb_b08a_b42e99813c1arow4_col0,#T_3ccb6b47_1bf7_11eb_b08a_b42e99813c1arow4_col1,#T_3ccb6b47_1bf7_11eb_b08a_b42e99813c1arow4_col3,#T_3ccb6b47_1bf7_11eb_b08a_b42e99813c1arow4_col4,#T_3ccb6b47_1bf7_11eb_b08a_b42e99813c1arow4_col5,#T_3ccb6b47_1bf7_11eb_b08a_b42e99813c1arow4_col6,#T_3ccb6b47_1bf7_11eb_b08a_b42e99813c1arow4_col7,#T_3ccb6b47_1bf7_11eb_b08a_b42e99813c1arow5_col0,#T_3ccb6b47_1bf7_11eb_b08a_b42e99813c1arow5_col1,#T_3ccb6b47_1bf7_11eb_b08a_b42e99813c1arow5_col2,#T_3ccb6b47_1bf7_11eb_b08a_b42e99813c1arow5_col3,#T_3ccb6b47_1bf7_11eb_b08a_b42e99813c1arow5_col4,#T_3ccb6b47_1bf7_11eb_b08a_b42e99813c1arow5_col5,#T_3ccb6b47_1bf7_11eb_b08a_b42e99813c1arow5_col6,#T_3ccb6b47_1bf7_11eb_b08a_b42e99813c1arow5_col7,#T_3ccb6b47_1bf7_11eb_b08a_b42e99813c1arow6_col0,#T_3ccb6b47_1bf7_11eb_b08a_b42e99813c1arow6_col1,#T_3ccb6b47_1bf7_11eb_b08a_b42e99813c1arow6_col2,#T_3ccb6b47_1bf7_11eb_b08a_b42e99813c1arow6_col3,#T_3ccb6b47_1bf7_11eb_b08a_b42e99813c1arow6_col4,#T_3ccb6b47_1bf7_11eb_b08a_b42e99813c1arow6_col5,#T_3ccb6b47_1bf7_11eb_b08a_b42e99813c1arow6_col6,#T_3ccb6b47_1bf7_11eb_b08a_b42e99813c1arow6_col7,#T_3ccb6b47_1bf7_11eb_b08a_b42e99813c1arow7_col0,#T_3ccb6b47_1bf7_11eb_b08a_b42e99813c1arow7_col1,#T_3ccb6b47_1bf7_11eb_b08a_b42e99813c1arow7_col2,#T_3ccb6b47_1bf7_11eb_b08a_b42e99813c1arow7_col3,#T_3ccb6b47_1bf7_11eb_b08a_b42e99813c1arow7_col4,#T_3ccb6b47_1bf7_11eb_b08a_b42e99813c1arow7_col5,#T_3ccb6b47_1bf7_11eb_b08a_b42e99813c1arow7_col6,#T_3ccb6b47_1bf7_11eb_b08a_b42e99813c1arow7_col7,#T_3ccb6b47_1bf7_11eb_b08a_b42e99813c1arow8_col0,#T_3ccb6b47_1bf7_11eb_b08a_b42e99813c1arow8_col1,#T_3ccb6b47_1bf7_11eb_b08a_b42e99813c1arow8_col2,#T_3ccb6b47_1bf7_11eb_b08a_b42e99813c1arow8_col3,#T_3ccb6b47_1bf7_11eb_b08a_b42e99813c1arow8_col4,#T_3ccb6b47_1bf7_11eb_b08a_b42e99813c1arow8_col5,#T_3ccb6b47_1bf7_11eb_b08a_b42e99813c1arow8_col6,#T_3ccb6b47_1bf7_11eb_b08a_b42e99813c1arow8_col7,#T_3ccb6b47_1bf7_11eb_b08a_b42e99813c1arow9_col0,#T_3ccb6b47_1bf7_11eb_b08a_b42e99813c1arow9_col1,#T_3ccb6b47_1bf7_11eb_b08a_b42e99813c1arow9_col2,#T_3ccb6b47_1bf7_11eb_b08a_b42e99813c1arow9_col3,#T_3ccb6b47_1bf7_11eb_b08a_b42e99813c1arow9_col4,#T_3ccb6b47_1bf7_11eb_b08a_b42e99813c1arow9_col5,#T_3ccb6b47_1bf7_11eb_b08a_b42e99813c1arow9_col6,#T_3ccb6b47_1bf7_11eb_b08a_b42e99813c1arow9_col7,#T_3ccb6b47_1bf7_11eb_b08a_b42e99813c1arow10_col0,#T_3ccb6b47_1bf7_11eb_b08a_b42e99813c1arow10_col1,#T_3ccb6b47_1bf7_11eb_b08a_b42e99813c1arow10_col2,#T_3ccb6b47_1bf7_11eb_b08a_b42e99813c1arow10_col3,#T_3ccb6b47_1bf7_11eb_b08a_b42e99813c1arow10_col4,#T_3ccb6b47_1bf7_11eb_b08a_b42e99813c1arow10_col5,#T_3ccb6b47_1bf7_11eb_b08a_b42e99813c1arow10_col6,#T_3ccb6b47_1bf7_11eb_b08a_b42e99813c1arow10_col7,#T_3ccb6b47_1bf7_11eb_b08a_b42e99813c1arow11_col0,#T_3ccb6b47_1bf7_11eb_b08a_b42e99813c1arow11_col1,#T_3ccb6b47_1bf7_11eb_b08a_b42e99813c1arow11_col2,#T_3ccb6b47_1bf7_11eb_b08a_b42e99813c1arow11_col3,#T_3ccb6b47_1bf7_11eb_b08a_b42e99813c1arow11_col4,#T_3ccb6b47_1bf7_11eb_b08a_b42e99813c1arow11_col5,#T_3ccb6b47_1bf7_11eb_b08a_b42e99813c1arow11_col6,#T_3ccb6b47_1bf7_11eb_b08a_b42e99813c1arow11_col7,#T_3ccb6b47_1bf7_11eb_b08a_b42e99813c1arow12_col0,#T_3ccb6b47_1bf7_11eb_b08a_b42e99813c1arow12_col1,#T_3ccb6b47_1bf7_11eb_b08a_b42e99813c1arow12_col2,#T_3ccb6b47_1bf7_11eb_b08a_b42e99813c1arow12_col3,#T_3ccb6b47_1bf7_11eb_b08a_b42e99813c1arow12_col4,#T_3ccb6b47_1bf7_11eb_b08a_b42e99813c1arow12_col5,#T_3ccb6b47_1bf7_11eb_b08a_b42e99813c1arow12_col6,#T_3ccb6b47_1bf7_11eb_b08a_b42e99813c1arow12_col7,#T_3ccb6b47_1bf7_11eb_b08a_b42e99813c1arow13_col0,#T_3ccb6b47_1bf7_11eb_b08a_b42e99813c1arow13_col1,#T_3ccb6b47_1bf7_11eb_b08a_b42e99813c1arow13_col2,#T_3ccb6b47_1bf7_11eb_b08a_b42e99813c1arow13_col3,#T_3ccb6b47_1bf7_11eb_b08a_b42e99813c1arow13_col4,#T_3ccb6b47_1bf7_11eb_b08a_b42e99813c1arow13_col5,#T_3ccb6b47_1bf7_11eb_b08a_b42e99813c1arow13_col6,#T_3ccb6b47_1bf7_11eb_b08a_b42e99813c1arow13_col7,#T_3ccb6b47_1bf7_11eb_b08a_b42e99813c1arow14_col0,#T_3ccb6b47_1bf7_11eb_b08a_b42e99813c1arow14_col1,#T_3ccb6b47_1bf7_11eb_b08a_b42e99813c1arow14_col2,#T_3ccb6b47_1bf7_11eb_b08a_b42e99813c1arow14_col3,#T_3ccb6b47_1bf7_11eb_b08a_b42e99813c1arow14_col4,#T_3ccb6b47_1bf7_11eb_b08a_b42e99813c1arow14_col5,#T_3ccb6b47_1bf7_11eb_b08a_b42e99813c1arow14_col6,#T_3ccb6b47_1bf7_11eb_b08a_b42e99813c1arow14_col7{\n",
       "            text-align:  left;\n",
       "            text-align:  left;\n",
       "        }#T_3ccb6b47_1bf7_11eb_b08a_b42e99813c1arow0_col1,#T_3ccb6b47_1bf7_11eb_b08a_b42e99813c1arow0_col2,#T_3ccb6b47_1bf7_11eb_b08a_b42e99813c1arow0_col3,#T_3ccb6b47_1bf7_11eb_b08a_b42e99813c1arow0_col4,#T_3ccb6b47_1bf7_11eb_b08a_b42e99813c1arow0_col5,#T_3ccb6b47_1bf7_11eb_b08a_b42e99813c1arow0_col6,#T_3ccb6b47_1bf7_11eb_b08a_b42e99813c1arow0_col7,#T_3ccb6b47_1bf7_11eb_b08a_b42e99813c1arow1_col2,#T_3ccb6b47_1bf7_11eb_b08a_b42e99813c1arow2_col2,#T_3ccb6b47_1bf7_11eb_b08a_b42e99813c1arow3_col2,#T_3ccb6b47_1bf7_11eb_b08a_b42e99813c1arow4_col2{\n",
       "            text-align:  left;\n",
       "            text-align:  left;\n",
       "            background-color:  yellow;\n",
       "        }#T_3ccb6b47_1bf7_11eb_b08a_b42e99813c1arow0_col8,#T_3ccb6b47_1bf7_11eb_b08a_b42e99813c1arow1_col8,#T_3ccb6b47_1bf7_11eb_b08a_b42e99813c1arow6_col8,#T_3ccb6b47_1bf7_11eb_b08a_b42e99813c1arow13_col8{\n",
       "            text-align:  left;\n",
       "            text-align:  left;\n",
       "            background-color:  yellow;\n",
       "            background-color:  lightgrey;\n",
       "        }#T_3ccb6b47_1bf7_11eb_b08a_b42e99813c1arow2_col8,#T_3ccb6b47_1bf7_11eb_b08a_b42e99813c1arow3_col8,#T_3ccb6b47_1bf7_11eb_b08a_b42e99813c1arow4_col8,#T_3ccb6b47_1bf7_11eb_b08a_b42e99813c1arow5_col8,#T_3ccb6b47_1bf7_11eb_b08a_b42e99813c1arow7_col8,#T_3ccb6b47_1bf7_11eb_b08a_b42e99813c1arow8_col8,#T_3ccb6b47_1bf7_11eb_b08a_b42e99813c1arow9_col8,#T_3ccb6b47_1bf7_11eb_b08a_b42e99813c1arow10_col8,#T_3ccb6b47_1bf7_11eb_b08a_b42e99813c1arow11_col8,#T_3ccb6b47_1bf7_11eb_b08a_b42e99813c1arow12_col8,#T_3ccb6b47_1bf7_11eb_b08a_b42e99813c1arow14_col8{\n",
       "            text-align:  left;\n",
       "            text-align:  left;\n",
       "            background-color:  lightgrey;\n",
       "        }</style><table id=\"T_3ccb6b47_1bf7_11eb_b08a_b42e99813c1a\" ><thead>    <tr>        <th class=\"blank level0\" ></th>        <th class=\"col_heading level0 col0\" >Model</th>        <th class=\"col_heading level0 col1\" >Accuracy</th>        <th class=\"col_heading level0 col2\" >AUC</th>        <th class=\"col_heading level0 col3\" >Recall</th>        <th class=\"col_heading level0 col4\" >Prec.</th>        <th class=\"col_heading level0 col5\" >F1</th>        <th class=\"col_heading level0 col6\" >Kappa</th>        <th class=\"col_heading level0 col7\" >MCC</th>        <th class=\"col_heading level0 col8\" >TT (Sec)</th>    </tr></thead><tbody>\n",
       "                <tr>\n",
       "                        <th id=\"T_3ccb6b47_1bf7_11eb_b08a_b42e99813c1alevel0_row0\" class=\"row_heading level0 row0\" >nb</th>\n",
       "                        <td id=\"T_3ccb6b47_1bf7_11eb_b08a_b42e99813c1arow0_col0\" class=\"data row0 col0\" >Naive Bayes</td>\n",
       "                        <td id=\"T_3ccb6b47_1bf7_11eb_b08a_b42e99813c1arow0_col1\" class=\"data row0 col1\" >0.9639</td>\n",
       "                        <td id=\"T_3ccb6b47_1bf7_11eb_b08a_b42e99813c1arow0_col2\" class=\"data row0 col2\" >0.9954</td>\n",
       "                        <td id=\"T_3ccb6b47_1bf7_11eb_b08a_b42e99813c1arow0_col3\" class=\"data row0 col3\" >0.9611</td>\n",
       "                        <td id=\"T_3ccb6b47_1bf7_11eb_b08a_b42e99813c1arow0_col4\" class=\"data row0 col4\" >0.9759</td>\n",
       "                        <td id=\"T_3ccb6b47_1bf7_11eb_b08a_b42e99813c1arow0_col5\" class=\"data row0 col5\" >0.9631</td>\n",
       "                        <td id=\"T_3ccb6b47_1bf7_11eb_b08a_b42e99813c1arow0_col6\" class=\"data row0 col6\" >0.9444</td>\n",
       "                        <td id=\"T_3ccb6b47_1bf7_11eb_b08a_b42e99813c1arow0_col7\" class=\"data row0 col7\" >0.9500</td>\n",
       "                        <td id=\"T_3ccb6b47_1bf7_11eb_b08a_b42e99813c1arow0_col8\" class=\"data row0 col8\" >0.0030</td>\n",
       "            </tr>\n",
       "            <tr>\n",
       "                        <th id=\"T_3ccb6b47_1bf7_11eb_b08a_b42e99813c1alevel0_row1\" class=\"row_heading level0 row1\" >qda</th>\n",
       "                        <td id=\"T_3ccb6b47_1bf7_11eb_b08a_b42e99813c1arow1_col0\" class=\"data row1 col0\" >Quadratic Discriminant Analysis</td>\n",
       "                        <td id=\"T_3ccb6b47_1bf7_11eb_b08a_b42e99813c1arow1_col1\" class=\"data row1 col1\" >0.9625</td>\n",
       "                        <td id=\"T_3ccb6b47_1bf7_11eb_b08a_b42e99813c1arow1_col2\" class=\"data row1 col2\" >0.9954</td>\n",
       "                        <td id=\"T_3ccb6b47_1bf7_11eb_b08a_b42e99813c1arow1_col3\" class=\"data row1 col3\" >0.9500</td>\n",
       "                        <td id=\"T_3ccb6b47_1bf7_11eb_b08a_b42e99813c1arow1_col4\" class=\"data row1 col4\" >0.9531</td>\n",
       "                        <td id=\"T_3ccb6b47_1bf7_11eb_b08a_b42e99813c1arow1_col5\" class=\"data row1 col5\" >0.9530</td>\n",
       "                        <td id=\"T_3ccb6b47_1bf7_11eb_b08a_b42e99813c1arow1_col6\" class=\"data row1 col6\" >0.9405</td>\n",
       "                        <td id=\"T_3ccb6b47_1bf7_11eb_b08a_b42e99813c1arow1_col7\" class=\"data row1 col7\" >0.9497</td>\n",
       "                        <td id=\"T_3ccb6b47_1bf7_11eb_b08a_b42e99813c1arow1_col8\" class=\"data row1 col8\" >0.0030</td>\n",
       "            </tr>\n",
       "            <tr>\n",
       "                        <th id=\"T_3ccb6b47_1bf7_11eb_b08a_b42e99813c1alevel0_row2\" class=\"row_heading level0 row2\" >lda</th>\n",
       "                        <td id=\"T_3ccb6b47_1bf7_11eb_b08a_b42e99813c1arow2_col0\" class=\"data row2 col0\" >Linear Discriminant Analysis</td>\n",
       "                        <td id=\"T_3ccb6b47_1bf7_11eb_b08a_b42e99813c1arow2_col1\" class=\"data row2 col1\" >0.9514</td>\n",
       "                        <td id=\"T_3ccb6b47_1bf7_11eb_b08a_b42e99813c1arow2_col2\" class=\"data row2 col2\" >0.9954</td>\n",
       "                        <td id=\"T_3ccb6b47_1bf7_11eb_b08a_b42e99813c1arow2_col3\" class=\"data row2 col3\" >0.9444</td>\n",
       "                        <td id=\"T_3ccb6b47_1bf7_11eb_b08a_b42e99813c1arow2_col4\" class=\"data row2 col4\" >0.9666</td>\n",
       "                        <td id=\"T_3ccb6b47_1bf7_11eb_b08a_b42e99813c1arow2_col5\" class=\"data row2 col5\" >0.9494</td>\n",
       "                        <td id=\"T_3ccb6b47_1bf7_11eb_b08a_b42e99813c1arow2_col6\" class=\"data row2 col6\" >0.9249</td>\n",
       "                        <td id=\"T_3ccb6b47_1bf7_11eb_b08a_b42e99813c1arow2_col7\" class=\"data row2 col7\" >0.9326</td>\n",
       "                        <td id=\"T_3ccb6b47_1bf7_11eb_b08a_b42e99813c1arow2_col8\" class=\"data row2 col8\" >0.0040</td>\n",
       "            </tr>\n",
       "            <tr>\n",
       "                        <th id=\"T_3ccb6b47_1bf7_11eb_b08a_b42e99813c1alevel0_row3\" class=\"row_heading level0 row3\" >knn</th>\n",
       "                        <td id=\"T_3ccb6b47_1bf7_11eb_b08a_b42e99813c1arow3_col0\" class=\"data row3 col0\" >K Neighbors Classifier</td>\n",
       "                        <td id=\"T_3ccb6b47_1bf7_11eb_b08a_b42e99813c1arow3_col1\" class=\"data row3 col1\" >0.9403</td>\n",
       "                        <td id=\"T_3ccb6b47_1bf7_11eb_b08a_b42e99813c1arow3_col2\" class=\"data row3 col2\" >0.9954</td>\n",
       "                        <td id=\"T_3ccb6b47_1bf7_11eb_b08a_b42e99813c1arow3_col3\" class=\"data row3 col3\" >0.9278</td>\n",
       "                        <td id=\"T_3ccb6b47_1bf7_11eb_b08a_b42e99813c1arow3_col4\" class=\"data row3 col4\" >0.9509</td>\n",
       "                        <td id=\"T_3ccb6b47_1bf7_11eb_b08a_b42e99813c1arow3_col5\" class=\"data row3 col5\" >0.9384</td>\n",
       "                        <td id=\"T_3ccb6b47_1bf7_11eb_b08a_b42e99813c1arow3_col6\" class=\"data row3 col6\" >0.9073</td>\n",
       "                        <td id=\"T_3ccb6b47_1bf7_11eb_b08a_b42e99813c1arow3_col7\" class=\"data row3 col7\" >0.9127</td>\n",
       "                        <td id=\"T_3ccb6b47_1bf7_11eb_b08a_b42e99813c1arow3_col8\" class=\"data row3 col8\" >0.0060</td>\n",
       "            </tr>\n",
       "            <tr>\n",
       "                        <th id=\"T_3ccb6b47_1bf7_11eb_b08a_b42e99813c1alevel0_row4\" class=\"row_heading level0 row4\" >lr</th>\n",
       "                        <td id=\"T_3ccb6b47_1bf7_11eb_b08a_b42e99813c1arow4_col0\" class=\"data row4 col0\" >Logistic Regression</td>\n",
       "                        <td id=\"T_3ccb6b47_1bf7_11eb_b08a_b42e99813c1arow4_col1\" class=\"data row4 col1\" >0.9389</td>\n",
       "                        <td id=\"T_3ccb6b47_1bf7_11eb_b08a_b42e99813c1arow4_col2\" class=\"data row4 col2\" >0.9954</td>\n",
       "                        <td id=\"T_3ccb6b47_1bf7_11eb_b08a_b42e99813c1arow4_col3\" class=\"data row4 col3\" >0.9389</td>\n",
       "                        <td id=\"T_3ccb6b47_1bf7_11eb_b08a_b42e99813c1arow4_col4\" class=\"data row4 col4\" >0.9551</td>\n",
       "                        <td id=\"T_3ccb6b47_1bf7_11eb_b08a_b42e99813c1arow4_col5\" class=\"data row4 col5\" >0.9368</td>\n",
       "                        <td id=\"T_3ccb6b47_1bf7_11eb_b08a_b42e99813c1arow4_col6\" class=\"data row4 col6\" >0.9086</td>\n",
       "                        <td id=\"T_3ccb6b47_1bf7_11eb_b08a_b42e99813c1arow4_col7\" class=\"data row4 col7\" >0.9166</td>\n",
       "                        <td id=\"T_3ccb6b47_1bf7_11eb_b08a_b42e99813c1arow4_col8\" class=\"data row4 col8\" >0.0090</td>\n",
       "            </tr>\n",
       "            <tr>\n",
       "                        <th id=\"T_3ccb6b47_1bf7_11eb_b08a_b42e99813c1alevel0_row5\" class=\"row_heading level0 row5\" >et</th>\n",
       "                        <td id=\"T_3ccb6b47_1bf7_11eb_b08a_b42e99813c1arow5_col0\" class=\"data row5 col0\" >Extra Trees Classifier</td>\n",
       "                        <td id=\"T_3ccb6b47_1bf7_11eb_b08a_b42e99813c1arow5_col1\" class=\"data row5 col1\" >0.9389</td>\n",
       "                        <td id=\"T_3ccb6b47_1bf7_11eb_b08a_b42e99813c1arow5_col2\" class=\"data row5 col2\" >0.9912</td>\n",
       "                        <td id=\"T_3ccb6b47_1bf7_11eb_b08a_b42e99813c1arow5_col3\" class=\"data row5 col3\" >0.9278</td>\n",
       "                        <td id=\"T_3ccb6b47_1bf7_11eb_b08a_b42e99813c1arow5_col4\" class=\"data row5 col4\" >0.9374</td>\n",
       "                        <td id=\"T_3ccb6b47_1bf7_11eb_b08a_b42e99813c1arow5_col5\" class=\"data row5 col5\" >0.9294</td>\n",
       "                        <td id=\"T_3ccb6b47_1bf7_11eb_b08a_b42e99813c1arow5_col6\" class=\"data row5 col6\" >0.9049</td>\n",
       "                        <td id=\"T_3ccb6b47_1bf7_11eb_b08a_b42e99813c1arow5_col7\" class=\"data row5 col7\" >0.9176</td>\n",
       "                        <td id=\"T_3ccb6b47_1bf7_11eb_b08a_b42e99813c1arow5_col8\" class=\"data row5 col8\" >0.0440</td>\n",
       "            </tr>\n",
       "            <tr>\n",
       "                        <th id=\"T_3ccb6b47_1bf7_11eb_b08a_b42e99813c1alevel0_row6\" class=\"row_heading level0 row6\" >dt</th>\n",
       "                        <td id=\"T_3ccb6b47_1bf7_11eb_b08a_b42e99813c1arow6_col0\" class=\"data row6 col0\" >Decision Tree Classifier</td>\n",
       "                        <td id=\"T_3ccb6b47_1bf7_11eb_b08a_b42e99813c1arow6_col1\" class=\"data row6 col1\" >0.9264</td>\n",
       "                        <td id=\"T_3ccb6b47_1bf7_11eb_b08a_b42e99813c1arow6_col2\" class=\"data row6 col2\" >0.9512</td>\n",
       "                        <td id=\"T_3ccb6b47_1bf7_11eb_b08a_b42e99813c1arow6_col3\" class=\"data row6 col3\" >0.9222</td>\n",
       "                        <td id=\"T_3ccb6b47_1bf7_11eb_b08a_b42e99813c1arow6_col4\" class=\"data row6 col4\" >0.9426</td>\n",
       "                        <td id=\"T_3ccb6b47_1bf7_11eb_b08a_b42e99813c1arow6_col5\" class=\"data row6 col5\" >0.9264</td>\n",
       "                        <td id=\"T_3ccb6b47_1bf7_11eb_b08a_b42e99813c1arow6_col6\" class=\"data row6 col6\" >0.8872</td>\n",
       "                        <td id=\"T_3ccb6b47_1bf7_11eb_b08a_b42e99813c1arow6_col7\" class=\"data row6 col7\" >0.8946</td>\n",
       "                        <td id=\"T_3ccb6b47_1bf7_11eb_b08a_b42e99813c1arow6_col8\" class=\"data row6 col8\" >0.0030</td>\n",
       "            </tr>\n",
       "            <tr>\n",
       "                        <th id=\"T_3ccb6b47_1bf7_11eb_b08a_b42e99813c1alevel0_row7\" class=\"row_heading level0 row7\" >ada</th>\n",
       "                        <td id=\"T_3ccb6b47_1bf7_11eb_b08a_b42e99813c1arow7_col0\" class=\"data row7 col0\" >Ada Boost Classifier</td>\n",
       "                        <td id=\"T_3ccb6b47_1bf7_11eb_b08a_b42e99813c1arow7_col1\" class=\"data row7 col1\" >0.9264</td>\n",
       "                        <td id=\"T_3ccb6b47_1bf7_11eb_b08a_b42e99813c1arow7_col2\" class=\"data row7 col2\" >0.9791</td>\n",
       "                        <td id=\"T_3ccb6b47_1bf7_11eb_b08a_b42e99813c1arow7_col3\" class=\"data row7 col3\" >0.9167</td>\n",
       "                        <td id=\"T_3ccb6b47_1bf7_11eb_b08a_b42e99813c1arow7_col4\" class=\"data row7 col4\" >0.9343</td>\n",
       "                        <td id=\"T_3ccb6b47_1bf7_11eb_b08a_b42e99813c1arow7_col5\" class=\"data row7 col5\" >0.9264</td>\n",
       "                        <td id=\"T_3ccb6b47_1bf7_11eb_b08a_b42e99813c1arow7_col6\" class=\"data row7 col6\" >0.8863</td>\n",
       "                        <td id=\"T_3ccb6b47_1bf7_11eb_b08a_b42e99813c1arow7_col7\" class=\"data row7 col7\" >0.8899</td>\n",
       "                        <td id=\"T_3ccb6b47_1bf7_11eb_b08a_b42e99813c1arow7_col8\" class=\"data row7 col8\" >0.0170</td>\n",
       "            </tr>\n",
       "            <tr>\n",
       "                        <th id=\"T_3ccb6b47_1bf7_11eb_b08a_b42e99813c1alevel0_row8\" class=\"row_heading level0 row8\" >gbc</th>\n",
       "                        <td id=\"T_3ccb6b47_1bf7_11eb_b08a_b42e99813c1arow8_col0\" class=\"data row8 col0\" >Gradient Boosting Classifier</td>\n",
       "                        <td id=\"T_3ccb6b47_1bf7_11eb_b08a_b42e99813c1arow8_col1\" class=\"data row8 col1\" >0.9264</td>\n",
       "                        <td id=\"T_3ccb6b47_1bf7_11eb_b08a_b42e99813c1arow8_col2\" class=\"data row8 col2\" >0.9850</td>\n",
       "                        <td id=\"T_3ccb6b47_1bf7_11eb_b08a_b42e99813c1arow8_col3\" class=\"data row8 col3\" >0.9167</td>\n",
       "                        <td id=\"T_3ccb6b47_1bf7_11eb_b08a_b42e99813c1arow8_col4\" class=\"data row8 col4\" >0.9343</td>\n",
       "                        <td id=\"T_3ccb6b47_1bf7_11eb_b08a_b42e99813c1arow8_col5\" class=\"data row8 col5\" >0.9264</td>\n",
       "                        <td id=\"T_3ccb6b47_1bf7_11eb_b08a_b42e99813c1arow8_col6\" class=\"data row8 col6\" >0.8863</td>\n",
       "                        <td id=\"T_3ccb6b47_1bf7_11eb_b08a_b42e99813c1arow8_col7\" class=\"data row8 col7\" >0.8899</td>\n",
       "                        <td id=\"T_3ccb6b47_1bf7_11eb_b08a_b42e99813c1arow8_col8\" class=\"data row8 col8\" >0.0360</td>\n",
       "            </tr>\n",
       "            <tr>\n",
       "                        <th id=\"T_3ccb6b47_1bf7_11eb_b08a_b42e99813c1alevel0_row9\" class=\"row_heading level0 row9\" >xgboost</th>\n",
       "                        <td id=\"T_3ccb6b47_1bf7_11eb_b08a_b42e99813c1arow9_col0\" class=\"data row9 col0\" >Extreme Gradient Boosting</td>\n",
       "                        <td id=\"T_3ccb6b47_1bf7_11eb_b08a_b42e99813c1arow9_col1\" class=\"data row9 col1\" >0.9264</td>\n",
       "                        <td id=\"T_3ccb6b47_1bf7_11eb_b08a_b42e99813c1arow9_col2\" class=\"data row9 col2\" >0.9797</td>\n",
       "                        <td id=\"T_3ccb6b47_1bf7_11eb_b08a_b42e99813c1arow9_col3\" class=\"data row9 col3\" >0.9167</td>\n",
       "                        <td id=\"T_3ccb6b47_1bf7_11eb_b08a_b42e99813c1arow9_col4\" class=\"data row9 col4\" >0.9343</td>\n",
       "                        <td id=\"T_3ccb6b47_1bf7_11eb_b08a_b42e99813c1arow9_col5\" class=\"data row9 col5\" >0.9264</td>\n",
       "                        <td id=\"T_3ccb6b47_1bf7_11eb_b08a_b42e99813c1arow9_col6\" class=\"data row9 col6\" >0.8863</td>\n",
       "                        <td id=\"T_3ccb6b47_1bf7_11eb_b08a_b42e99813c1arow9_col7\" class=\"data row9 col7\" >0.8899</td>\n",
       "                        <td id=\"T_3ccb6b47_1bf7_11eb_b08a_b42e99813c1arow9_col8\" class=\"data row9 col8\" >0.0170</td>\n",
       "            </tr>\n",
       "            <tr>\n",
       "                        <th id=\"T_3ccb6b47_1bf7_11eb_b08a_b42e99813c1alevel0_row10\" class=\"row_heading level0 row10\" >catboost</th>\n",
       "                        <td id=\"T_3ccb6b47_1bf7_11eb_b08a_b42e99813c1arow10_col0\" class=\"data row10 col0\" >CatBoost Classifier</td>\n",
       "                        <td id=\"T_3ccb6b47_1bf7_11eb_b08a_b42e99813c1arow10_col1\" class=\"data row10 col1\" >0.9264</td>\n",
       "                        <td id=\"T_3ccb6b47_1bf7_11eb_b08a_b42e99813c1arow10_col2\" class=\"data row10 col2\" >0.9871</td>\n",
       "                        <td id=\"T_3ccb6b47_1bf7_11eb_b08a_b42e99813c1arow10_col3\" class=\"data row10 col3\" >0.9167</td>\n",
       "                        <td id=\"T_3ccb6b47_1bf7_11eb_b08a_b42e99813c1arow10_col4\" class=\"data row10 col4\" >0.9343</td>\n",
       "                        <td id=\"T_3ccb6b47_1bf7_11eb_b08a_b42e99813c1arow10_col5\" class=\"data row10 col5\" >0.9264</td>\n",
       "                        <td id=\"T_3ccb6b47_1bf7_11eb_b08a_b42e99813c1arow10_col6\" class=\"data row10 col6\" >0.8863</td>\n",
       "                        <td id=\"T_3ccb6b47_1bf7_11eb_b08a_b42e99813c1arow10_col7\" class=\"data row10 col7\" >0.8899</td>\n",
       "                        <td id=\"T_3ccb6b47_1bf7_11eb_b08a_b42e99813c1arow10_col8\" class=\"data row10 col8\" >0.3360</td>\n",
       "            </tr>\n",
       "            <tr>\n",
       "                        <th id=\"T_3ccb6b47_1bf7_11eb_b08a_b42e99813c1alevel0_row11\" class=\"row_heading level0 row11\" >lightgbm</th>\n",
       "                        <td id=\"T_3ccb6b47_1bf7_11eb_b08a_b42e99813c1arow11_col0\" class=\"data row11 col0\" >Light Gradient Boosting Machine</td>\n",
       "                        <td id=\"T_3ccb6b47_1bf7_11eb_b08a_b42e99813c1arow11_col1\" class=\"data row11 col1\" >0.9153</td>\n",
       "                        <td id=\"T_3ccb6b47_1bf7_11eb_b08a_b42e99813c1arow11_col2\" class=\"data row11 col2\" >0.9871</td>\n",
       "                        <td id=\"T_3ccb6b47_1bf7_11eb_b08a_b42e99813c1arow11_col3\" class=\"data row11 col3\" >0.8944</td>\n",
       "                        <td id=\"T_3ccb6b47_1bf7_11eb_b08a_b42e99813c1arow11_col4\" class=\"data row11 col4\" >0.9322</td>\n",
       "                        <td id=\"T_3ccb6b47_1bf7_11eb_b08a_b42e99813c1arow11_col5\" class=\"data row11 col5\" >0.9118</td>\n",
       "                        <td id=\"T_3ccb6b47_1bf7_11eb_b08a_b42e99813c1arow11_col6\" class=\"data row11 col6\" >0.8677</td>\n",
       "                        <td id=\"T_3ccb6b47_1bf7_11eb_b08a_b42e99813c1arow11_col7\" class=\"data row11 col7\" >0.8772</td>\n",
       "                        <td id=\"T_3ccb6b47_1bf7_11eb_b08a_b42e99813c1arow11_col8\" class=\"data row11 col8\" >0.0080</td>\n",
       "            </tr>\n",
       "            <tr>\n",
       "                        <th id=\"T_3ccb6b47_1bf7_11eb_b08a_b42e99813c1alevel0_row12\" class=\"row_heading level0 row12\" >rf</th>\n",
       "                        <td id=\"T_3ccb6b47_1bf7_11eb_b08a_b42e99813c1arow12_col0\" class=\"data row12 col0\" >Random Forest Classifier</td>\n",
       "                        <td id=\"T_3ccb6b47_1bf7_11eb_b08a_b42e99813c1arow12_col1\" class=\"data row12 col1\" >0.9139</td>\n",
       "                        <td id=\"T_3ccb6b47_1bf7_11eb_b08a_b42e99813c1arow12_col2\" class=\"data row12 col2\" >0.9818</td>\n",
       "                        <td id=\"T_3ccb6b47_1bf7_11eb_b08a_b42e99813c1arow12_col3\" class=\"data row12 col3\" >0.9000</td>\n",
       "                        <td id=\"T_3ccb6b47_1bf7_11eb_b08a_b42e99813c1arow12_col4\" class=\"data row12 col4\" >0.9176</td>\n",
       "                        <td id=\"T_3ccb6b47_1bf7_11eb_b08a_b42e99813c1arow12_col5\" class=\"data row12 col5\" >0.9114</td>\n",
       "                        <td id=\"T_3ccb6b47_1bf7_11eb_b08a_b42e99813c1arow12_col6\" class=\"data row12 col6\" >0.8663</td>\n",
       "                        <td id=\"T_3ccb6b47_1bf7_11eb_b08a_b42e99813c1arow12_col7\" class=\"data row12 col7\" >0.8709</td>\n",
       "                        <td id=\"T_3ccb6b47_1bf7_11eb_b08a_b42e99813c1arow12_col8\" class=\"data row12 col8\" >0.0520</td>\n",
       "            </tr>\n",
       "            <tr>\n",
       "                        <th id=\"T_3ccb6b47_1bf7_11eb_b08a_b42e99813c1alevel0_row13\" class=\"row_heading level0 row13\" >ridge</th>\n",
       "                        <td id=\"T_3ccb6b47_1bf7_11eb_b08a_b42e99813c1arow13_col0\" class=\"data row13 col0\" >Ridge Classifier</td>\n",
       "                        <td id=\"T_3ccb6b47_1bf7_11eb_b08a_b42e99813c1arow13_col1\" class=\"data row13 col1\" >0.8792</td>\n",
       "                        <td id=\"T_3ccb6b47_1bf7_11eb_b08a_b42e99813c1arow13_col2\" class=\"data row13 col2\" >0.0000</td>\n",
       "                        <td id=\"T_3ccb6b47_1bf7_11eb_b08a_b42e99813c1arow13_col3\" class=\"data row13 col3\" >0.8722</td>\n",
       "                        <td id=\"T_3ccb6b47_1bf7_11eb_b08a_b42e99813c1arow13_col4\" class=\"data row13 col4\" >0.9179</td>\n",
       "                        <td id=\"T_3ccb6b47_1bf7_11eb_b08a_b42e99813c1arow13_col5\" class=\"data row13 col5\" >0.8732</td>\n",
       "                        <td id=\"T_3ccb6b47_1bf7_11eb_b08a_b42e99813c1arow13_col6\" class=\"data row13 col6\" >0.8171</td>\n",
       "                        <td id=\"T_3ccb6b47_1bf7_11eb_b08a_b42e99813c1arow13_col7\" class=\"data row13 col7\" >0.8367</td>\n",
       "                        <td id=\"T_3ccb6b47_1bf7_11eb_b08a_b42e99813c1arow13_col8\" class=\"data row13 col8\" >0.0030</td>\n",
       "            </tr>\n",
       "            <tr>\n",
       "                        <th id=\"T_3ccb6b47_1bf7_11eb_b08a_b42e99813c1alevel0_row14\" class=\"row_heading level0 row14\" >svm</th>\n",
       "                        <td id=\"T_3ccb6b47_1bf7_11eb_b08a_b42e99813c1arow14_col0\" class=\"data row14 col0\" >SVM - Linear Kernel</td>\n",
       "                        <td id=\"T_3ccb6b47_1bf7_11eb_b08a_b42e99813c1arow14_col1\" class=\"data row14 col1\" >0.6986</td>\n",
       "                        <td id=\"T_3ccb6b47_1bf7_11eb_b08a_b42e99813c1arow14_col2\" class=\"data row14 col2\" >0.0000</td>\n",
       "                        <td id=\"T_3ccb6b47_1bf7_11eb_b08a_b42e99813c1arow14_col3\" class=\"data row14 col3\" >0.6306</td>\n",
       "                        <td id=\"T_3ccb6b47_1bf7_11eb_b08a_b42e99813c1arow14_col4\" class=\"data row14 col4\" >0.5726</td>\n",
       "                        <td id=\"T_3ccb6b47_1bf7_11eb_b08a_b42e99813c1arow14_col5\" class=\"data row14 col5\" >0.6141</td>\n",
       "                        <td id=\"T_3ccb6b47_1bf7_11eb_b08a_b42e99813c1arow14_col6\" class=\"data row14 col6\" >0.5240</td>\n",
       "                        <td id=\"T_3ccb6b47_1bf7_11eb_b08a_b42e99813c1arow14_col7\" class=\"data row14 col7\" >0.5831</td>\n",
       "                        <td id=\"T_3ccb6b47_1bf7_11eb_b08a_b42e99813c1arow14_col8\" class=\"data row14 col8\" >0.0040</td>\n",
       "            </tr>\n",
       "    </tbody></table>"
      ],
      "text/plain": [
       "<pandas.io.formats.style.Styler at 0x7f5a78f7bd60>"
      ]
     },
     "metadata": {},
     "output_type": "display_data"
    }
   ],
   "source": [
    "best_model = compare_models()"
   ]
  },
  {
   "cell_type": "markdown",
   "metadata": {},
   "source": [
    "# Let create model and do on test data"
   ]
  },
  {
   "cell_type": "markdown",
   "metadata": {},
   "source": [
    "## create model "
   ]
  },
  {
   "cell_type": "code",
   "execution_count": 16,
   "metadata": {},
   "outputs": [
    {
     "data": {
      "text/html": [
       "<style  type=\"text/css\" >\n",
       "#T_3763108e_1bf7_11eb_b08a_b42e99813c1arow10_col0,#T_3763108e_1bf7_11eb_b08a_b42e99813c1arow10_col1,#T_3763108e_1bf7_11eb_b08a_b42e99813c1arow10_col2,#T_3763108e_1bf7_11eb_b08a_b42e99813c1arow10_col3,#T_3763108e_1bf7_11eb_b08a_b42e99813c1arow10_col4,#T_3763108e_1bf7_11eb_b08a_b42e99813c1arow10_col5,#T_3763108e_1bf7_11eb_b08a_b42e99813c1arow10_col6{\n",
       "            background:  yellow;\n",
       "        }</style><table id=\"T_3763108e_1bf7_11eb_b08a_b42e99813c1a\" ><thead>    <tr>        <th class=\"blank level0\" ></th>        <th class=\"col_heading level0 col0\" >Accuracy</th>        <th class=\"col_heading level0 col1\" >AUC</th>        <th class=\"col_heading level0 col2\" >Recall</th>        <th class=\"col_heading level0 col3\" >Prec.</th>        <th class=\"col_heading level0 col4\" >F1</th>        <th class=\"col_heading level0 col5\" >Kappa</th>        <th class=\"col_heading level0 col6\" >MCC</th>    </tr></thead><tbody>\n",
       "                <tr>\n",
       "                        <th id=\"T_3763108e_1bf7_11eb_b08a_b42e99813c1alevel0_row0\" class=\"row_heading level0 row0\" >0</th>\n",
       "                        <td id=\"T_3763108e_1bf7_11eb_b08a_b42e99813c1arow0_col0\" class=\"data row0 col0\" >1.0000</td>\n",
       "                        <td id=\"T_3763108e_1bf7_11eb_b08a_b42e99813c1arow0_col1\" class=\"data row0 col1\" >1.0000</td>\n",
       "                        <td id=\"T_3763108e_1bf7_11eb_b08a_b42e99813c1arow0_col2\" class=\"data row0 col2\" >1.0000</td>\n",
       "                        <td id=\"T_3763108e_1bf7_11eb_b08a_b42e99813c1arow0_col3\" class=\"data row0 col3\" >1.0000</td>\n",
       "                        <td id=\"T_3763108e_1bf7_11eb_b08a_b42e99813c1arow0_col4\" class=\"data row0 col4\" >1.0000</td>\n",
       "                        <td id=\"T_3763108e_1bf7_11eb_b08a_b42e99813c1arow0_col5\" class=\"data row0 col5\" >1.0000</td>\n",
       "                        <td id=\"T_3763108e_1bf7_11eb_b08a_b42e99813c1arow0_col6\" class=\"data row0 col6\" >1.0000</td>\n",
       "            </tr>\n",
       "            <tr>\n",
       "                        <th id=\"T_3763108e_1bf7_11eb_b08a_b42e99813c1alevel0_row1\" class=\"row_heading level0 row1\" >1</th>\n",
       "                        <td id=\"T_3763108e_1bf7_11eb_b08a_b42e99813c1arow1_col0\" class=\"data row1 col0\" >1.0000</td>\n",
       "                        <td id=\"T_3763108e_1bf7_11eb_b08a_b42e99813c1arow1_col1\" class=\"data row1 col1\" >1.0000</td>\n",
       "                        <td id=\"T_3763108e_1bf7_11eb_b08a_b42e99813c1arow1_col2\" class=\"data row1 col2\" >1.0000</td>\n",
       "                        <td id=\"T_3763108e_1bf7_11eb_b08a_b42e99813c1arow1_col3\" class=\"data row1 col3\" >1.0000</td>\n",
       "                        <td id=\"T_3763108e_1bf7_11eb_b08a_b42e99813c1arow1_col4\" class=\"data row1 col4\" >1.0000</td>\n",
       "                        <td id=\"T_3763108e_1bf7_11eb_b08a_b42e99813c1arow1_col5\" class=\"data row1 col5\" >1.0000</td>\n",
       "                        <td id=\"T_3763108e_1bf7_11eb_b08a_b42e99813c1arow1_col6\" class=\"data row1 col6\" >1.0000</td>\n",
       "            </tr>\n",
       "            <tr>\n",
       "                        <th id=\"T_3763108e_1bf7_11eb_b08a_b42e99813c1alevel0_row2\" class=\"row_heading level0 row2\" >2</th>\n",
       "                        <td id=\"T_3763108e_1bf7_11eb_b08a_b42e99813c1arow2_col0\" class=\"data row2 col0\" >0.8889</td>\n",
       "                        <td id=\"T_3763108e_1bf7_11eb_b08a_b42e99813c1arow2_col1\" class=\"data row2 col1\" >1.0000</td>\n",
       "                        <td id=\"T_3763108e_1bf7_11eb_b08a_b42e99813c1arow2_col2\" class=\"data row2 col2\" >0.8889</td>\n",
       "                        <td id=\"T_3763108e_1bf7_11eb_b08a_b42e99813c1arow2_col3\" class=\"data row2 col3\" >0.9259</td>\n",
       "                        <td id=\"T_3763108e_1bf7_11eb_b08a_b42e99813c1arow2_col4\" class=\"data row2 col4\" >0.8889</td>\n",
       "                        <td id=\"T_3763108e_1bf7_11eb_b08a_b42e99813c1arow2_col5\" class=\"data row2 col5\" >0.8302</td>\n",
       "                        <td id=\"T_3763108e_1bf7_11eb_b08a_b42e99813c1arow2_col6\" class=\"data row2 col6\" >0.8462</td>\n",
       "            </tr>\n",
       "            <tr>\n",
       "                        <th id=\"T_3763108e_1bf7_11eb_b08a_b42e99813c1alevel0_row3\" class=\"row_heading level0 row3\" >3</th>\n",
       "                        <td id=\"T_3763108e_1bf7_11eb_b08a_b42e99813c1arow3_col0\" class=\"data row3 col0\" >0.8750</td>\n",
       "                        <td id=\"T_3763108e_1bf7_11eb_b08a_b42e99813c1arow3_col1\" class=\"data row3 col1\" >1.0000</td>\n",
       "                        <td id=\"T_3763108e_1bf7_11eb_b08a_b42e99813c1arow3_col2\" class=\"data row3 col2\" >0.8333</td>\n",
       "                        <td id=\"T_3763108e_1bf7_11eb_b08a_b42e99813c1arow3_col3\" class=\"data row3 col3\" >0.9167</td>\n",
       "                        <td id=\"T_3763108e_1bf7_11eb_b08a_b42e99813c1arow3_col4\" class=\"data row3 col4\" >0.8667</td>\n",
       "                        <td id=\"T_3763108e_1bf7_11eb_b08a_b42e99813c1arow3_col5\" class=\"data row3 col5\" >0.8000</td>\n",
       "                        <td id=\"T_3763108e_1bf7_11eb_b08a_b42e99813c1arow3_col6\" class=\"data row3 col6\" >0.8208</td>\n",
       "            </tr>\n",
       "            <tr>\n",
       "                        <th id=\"T_3763108e_1bf7_11eb_b08a_b42e99813c1alevel0_row4\" class=\"row_heading level0 row4\" >4</th>\n",
       "                        <td id=\"T_3763108e_1bf7_11eb_b08a_b42e99813c1arow4_col0\" class=\"data row4 col0\" >1.0000</td>\n",
       "                        <td id=\"T_3763108e_1bf7_11eb_b08a_b42e99813c1arow4_col1\" class=\"data row4 col1\" >1.0000</td>\n",
       "                        <td id=\"T_3763108e_1bf7_11eb_b08a_b42e99813c1arow4_col2\" class=\"data row4 col2\" >1.0000</td>\n",
       "                        <td id=\"T_3763108e_1bf7_11eb_b08a_b42e99813c1arow4_col3\" class=\"data row4 col3\" >1.0000</td>\n",
       "                        <td id=\"T_3763108e_1bf7_11eb_b08a_b42e99813c1arow4_col4\" class=\"data row4 col4\" >1.0000</td>\n",
       "                        <td id=\"T_3763108e_1bf7_11eb_b08a_b42e99813c1arow4_col5\" class=\"data row4 col5\" >1.0000</td>\n",
       "                        <td id=\"T_3763108e_1bf7_11eb_b08a_b42e99813c1arow4_col6\" class=\"data row4 col6\" >1.0000</td>\n",
       "            </tr>\n",
       "            <tr>\n",
       "                        <th id=\"T_3763108e_1bf7_11eb_b08a_b42e99813c1alevel0_row5\" class=\"row_heading level0 row5\" >5</th>\n",
       "                        <td id=\"T_3763108e_1bf7_11eb_b08a_b42e99813c1arow5_col0\" class=\"data row5 col0\" >0.8750</td>\n",
       "                        <td id=\"T_3763108e_1bf7_11eb_b08a_b42e99813c1arow5_col1\" class=\"data row5 col1\" >0.9542</td>\n",
       "                        <td id=\"T_3763108e_1bf7_11eb_b08a_b42e99813c1arow5_col2\" class=\"data row5 col2\" >0.8889</td>\n",
       "                        <td id=\"T_3763108e_1bf7_11eb_b08a_b42e99813c1arow5_col3\" class=\"data row5 col3\" >0.9167</td>\n",
       "                        <td id=\"T_3763108e_1bf7_11eb_b08a_b42e99813c1arow5_col4\" class=\"data row5 col4\" >0.8750</td>\n",
       "                        <td id=\"T_3763108e_1bf7_11eb_b08a_b42e99813c1arow5_col5\" class=\"data row5 col5\" >0.8140</td>\n",
       "                        <td id=\"T_3763108e_1bf7_11eb_b08a_b42e99813c1arow5_col6\" class=\"data row5 col6\" >0.8333</td>\n",
       "            </tr>\n",
       "            <tr>\n",
       "                        <th id=\"T_3763108e_1bf7_11eb_b08a_b42e99813c1alevel0_row6\" class=\"row_heading level0 row6\" >6</th>\n",
       "                        <td id=\"T_3763108e_1bf7_11eb_b08a_b42e99813c1arow6_col0\" class=\"data row6 col0\" >1.0000</td>\n",
       "                        <td id=\"T_3763108e_1bf7_11eb_b08a_b42e99813c1arow6_col1\" class=\"data row6 col1\" >1.0000</td>\n",
       "                        <td id=\"T_3763108e_1bf7_11eb_b08a_b42e99813c1arow6_col2\" class=\"data row6 col2\" >1.0000</td>\n",
       "                        <td id=\"T_3763108e_1bf7_11eb_b08a_b42e99813c1arow6_col3\" class=\"data row6 col3\" >1.0000</td>\n",
       "                        <td id=\"T_3763108e_1bf7_11eb_b08a_b42e99813c1arow6_col4\" class=\"data row6 col4\" >1.0000</td>\n",
       "                        <td id=\"T_3763108e_1bf7_11eb_b08a_b42e99813c1arow6_col5\" class=\"data row6 col5\" >1.0000</td>\n",
       "                        <td id=\"T_3763108e_1bf7_11eb_b08a_b42e99813c1arow6_col6\" class=\"data row6 col6\" >1.0000</td>\n",
       "            </tr>\n",
       "            <tr>\n",
       "                        <th id=\"T_3763108e_1bf7_11eb_b08a_b42e99813c1alevel0_row7\" class=\"row_heading level0 row7\" >7</th>\n",
       "                        <td id=\"T_3763108e_1bf7_11eb_b08a_b42e99813c1arow7_col0\" class=\"data row7 col0\" >1.0000</td>\n",
       "                        <td id=\"T_3763108e_1bf7_11eb_b08a_b42e99813c1arow7_col1\" class=\"data row7 col1\" >1.0000</td>\n",
       "                        <td id=\"T_3763108e_1bf7_11eb_b08a_b42e99813c1arow7_col2\" class=\"data row7 col2\" >1.0000</td>\n",
       "                        <td id=\"T_3763108e_1bf7_11eb_b08a_b42e99813c1arow7_col3\" class=\"data row7 col3\" >1.0000</td>\n",
       "                        <td id=\"T_3763108e_1bf7_11eb_b08a_b42e99813c1arow7_col4\" class=\"data row7 col4\" >1.0000</td>\n",
       "                        <td id=\"T_3763108e_1bf7_11eb_b08a_b42e99813c1arow7_col5\" class=\"data row7 col5\" >1.0000</td>\n",
       "                        <td id=\"T_3763108e_1bf7_11eb_b08a_b42e99813c1arow7_col6\" class=\"data row7 col6\" >1.0000</td>\n",
       "            </tr>\n",
       "            <tr>\n",
       "                        <th id=\"T_3763108e_1bf7_11eb_b08a_b42e99813c1alevel0_row8\" class=\"row_heading level0 row8\" >8</th>\n",
       "                        <td id=\"T_3763108e_1bf7_11eb_b08a_b42e99813c1arow8_col0\" class=\"data row8 col0\" >1.0000</td>\n",
       "                        <td id=\"T_3763108e_1bf7_11eb_b08a_b42e99813c1arow8_col1\" class=\"data row8 col1\" >1.0000</td>\n",
       "                        <td id=\"T_3763108e_1bf7_11eb_b08a_b42e99813c1arow8_col2\" class=\"data row8 col2\" >1.0000</td>\n",
       "                        <td id=\"T_3763108e_1bf7_11eb_b08a_b42e99813c1arow8_col3\" class=\"data row8 col3\" >1.0000</td>\n",
       "                        <td id=\"T_3763108e_1bf7_11eb_b08a_b42e99813c1arow8_col4\" class=\"data row8 col4\" >1.0000</td>\n",
       "                        <td id=\"T_3763108e_1bf7_11eb_b08a_b42e99813c1arow8_col5\" class=\"data row8 col5\" >1.0000</td>\n",
       "                        <td id=\"T_3763108e_1bf7_11eb_b08a_b42e99813c1arow8_col6\" class=\"data row8 col6\" >1.0000</td>\n",
       "            </tr>\n",
       "            <tr>\n",
       "                        <th id=\"T_3763108e_1bf7_11eb_b08a_b42e99813c1alevel0_row9\" class=\"row_heading level0 row9\" >9</th>\n",
       "                        <td id=\"T_3763108e_1bf7_11eb_b08a_b42e99813c1arow9_col0\" class=\"data row9 col0\" >1.0000</td>\n",
       "                        <td id=\"T_3763108e_1bf7_11eb_b08a_b42e99813c1arow9_col1\" class=\"data row9 col1\" >1.0000</td>\n",
       "                        <td id=\"T_3763108e_1bf7_11eb_b08a_b42e99813c1arow9_col2\" class=\"data row9 col2\" >1.0000</td>\n",
       "                        <td id=\"T_3763108e_1bf7_11eb_b08a_b42e99813c1arow9_col3\" class=\"data row9 col3\" >1.0000</td>\n",
       "                        <td id=\"T_3763108e_1bf7_11eb_b08a_b42e99813c1arow9_col4\" class=\"data row9 col4\" >1.0000</td>\n",
       "                        <td id=\"T_3763108e_1bf7_11eb_b08a_b42e99813c1arow9_col5\" class=\"data row9 col5\" >1.0000</td>\n",
       "                        <td id=\"T_3763108e_1bf7_11eb_b08a_b42e99813c1arow9_col6\" class=\"data row9 col6\" >1.0000</td>\n",
       "            </tr>\n",
       "            <tr>\n",
       "                        <th id=\"T_3763108e_1bf7_11eb_b08a_b42e99813c1alevel0_row10\" class=\"row_heading level0 row10\" >Mean</th>\n",
       "                        <td id=\"T_3763108e_1bf7_11eb_b08a_b42e99813c1arow10_col0\" class=\"data row10 col0\" >0.9639</td>\n",
       "                        <td id=\"T_3763108e_1bf7_11eb_b08a_b42e99813c1arow10_col1\" class=\"data row10 col1\" >0.9954</td>\n",
       "                        <td id=\"T_3763108e_1bf7_11eb_b08a_b42e99813c1arow10_col2\" class=\"data row10 col2\" >0.9611</td>\n",
       "                        <td id=\"T_3763108e_1bf7_11eb_b08a_b42e99813c1arow10_col3\" class=\"data row10 col3\" >0.9759</td>\n",
       "                        <td id=\"T_3763108e_1bf7_11eb_b08a_b42e99813c1arow10_col4\" class=\"data row10 col4\" >0.9631</td>\n",
       "                        <td id=\"T_3763108e_1bf7_11eb_b08a_b42e99813c1arow10_col5\" class=\"data row10 col5\" >0.9444</td>\n",
       "                        <td id=\"T_3763108e_1bf7_11eb_b08a_b42e99813c1arow10_col6\" class=\"data row10 col6\" >0.9500</td>\n",
       "            </tr>\n",
       "            <tr>\n",
       "                        <th id=\"T_3763108e_1bf7_11eb_b08a_b42e99813c1alevel0_row11\" class=\"row_heading level0 row11\" >SD</th>\n",
       "                        <td id=\"T_3763108e_1bf7_11eb_b08a_b42e99813c1arow11_col0\" class=\"data row11 col0\" >0.0553</td>\n",
       "                        <td id=\"T_3763108e_1bf7_11eb_b08a_b42e99813c1arow11_col1\" class=\"data row11 col1\" >0.0137</td>\n",
       "                        <td id=\"T_3763108e_1bf7_11eb_b08a_b42e99813c1arow11_col2\" class=\"data row11 col2\" >0.0611</td>\n",
       "                        <td id=\"T_3763108e_1bf7_11eb_b08a_b42e99813c1arow11_col3\" class=\"data row11 col3\" >0.0369</td>\n",
       "                        <td id=\"T_3763108e_1bf7_11eb_b08a_b42e99813c1arow11_col4\" class=\"data row11 col4\" >0.0567</td>\n",
       "                        <td id=\"T_3763108e_1bf7_11eb_b08a_b42e99813c1arow11_col5\" class=\"data row11 col5\" >0.0852</td>\n",
       "                        <td id=\"T_3763108e_1bf7_11eb_b08a_b42e99813c1arow11_col6\" class=\"data row11 col6\" >0.0765</td>\n",
       "            </tr>\n",
       "    </tbody></table>"
      ],
      "text/plain": [
       "<pandas.io.formats.style.Styler at 0x7f5b039a9400>"
      ]
     },
     "metadata": {},
     "output_type": "display_data"
    }
   ],
   "source": [
    "nb_model = create_model(\"nb\")"
   ]
  },
  {
   "cell_type": "code",
   "execution_count": 35,
   "metadata": {},
   "outputs": [
    {
     "data": {
      "text/plain": [
       "GaussianNB(priors=None, var_smoothing=1e-09)"
      ]
     },
     "execution_count": 35,
     "metadata": {},
     "output_type": "execute_result"
    }
   ],
   "source": [
    "nb_model"
   ]
  },
  {
   "cell_type": "code",
   "execution_count": 36,
   "metadata": {},
   "outputs": [
    {
     "data": {
      "text/html": [
       "<style  type=\"text/css\" >\n",
       "#T_3ccb6b48_1bf7_11eb_b08a_b42e99813c1arow10_col0,#T_3ccb6b48_1bf7_11eb_b08a_b42e99813c1arow10_col1,#T_3ccb6b48_1bf7_11eb_b08a_b42e99813c1arow10_col2,#T_3ccb6b48_1bf7_11eb_b08a_b42e99813c1arow10_col3,#T_3ccb6b48_1bf7_11eb_b08a_b42e99813c1arow10_col4,#T_3ccb6b48_1bf7_11eb_b08a_b42e99813c1arow10_col5,#T_3ccb6b48_1bf7_11eb_b08a_b42e99813c1arow10_col6{\n",
       "            background:  yellow;\n",
       "        }</style><table id=\"T_3ccb6b48_1bf7_11eb_b08a_b42e99813c1a\" ><thead>    <tr>        <th class=\"blank level0\" ></th>        <th class=\"col_heading level0 col0\" >Accuracy</th>        <th class=\"col_heading level0 col1\" >AUC</th>        <th class=\"col_heading level0 col2\" >Recall</th>        <th class=\"col_heading level0 col3\" >Prec.</th>        <th class=\"col_heading level0 col4\" >F1</th>        <th class=\"col_heading level0 col5\" >Kappa</th>        <th class=\"col_heading level0 col6\" >MCC</th>    </tr></thead><tbody>\n",
       "                <tr>\n",
       "                        <th id=\"T_3ccb6b48_1bf7_11eb_b08a_b42e99813c1alevel0_row0\" class=\"row_heading level0 row0\" >0</th>\n",
       "                        <td id=\"T_3ccb6b48_1bf7_11eb_b08a_b42e99813c1arow0_col0\" class=\"data row0 col0\" >1.0000</td>\n",
       "                        <td id=\"T_3ccb6b48_1bf7_11eb_b08a_b42e99813c1arow0_col1\" class=\"data row0 col1\" >1.0000</td>\n",
       "                        <td id=\"T_3ccb6b48_1bf7_11eb_b08a_b42e99813c1arow0_col2\" class=\"data row0 col2\" >1.0000</td>\n",
       "                        <td id=\"T_3ccb6b48_1bf7_11eb_b08a_b42e99813c1arow0_col3\" class=\"data row0 col3\" >1.0000</td>\n",
       "                        <td id=\"T_3ccb6b48_1bf7_11eb_b08a_b42e99813c1arow0_col4\" class=\"data row0 col4\" >1.0000</td>\n",
       "                        <td id=\"T_3ccb6b48_1bf7_11eb_b08a_b42e99813c1arow0_col5\" class=\"data row0 col5\" >1.0000</td>\n",
       "                        <td id=\"T_3ccb6b48_1bf7_11eb_b08a_b42e99813c1arow0_col6\" class=\"data row0 col6\" >1.0000</td>\n",
       "            </tr>\n",
       "            <tr>\n",
       "                        <th id=\"T_3ccb6b48_1bf7_11eb_b08a_b42e99813c1alevel0_row1\" class=\"row_heading level0 row1\" >1</th>\n",
       "                        <td id=\"T_3ccb6b48_1bf7_11eb_b08a_b42e99813c1arow1_col0\" class=\"data row1 col0\" >1.0000</td>\n",
       "                        <td id=\"T_3ccb6b48_1bf7_11eb_b08a_b42e99813c1arow1_col1\" class=\"data row1 col1\" >1.0000</td>\n",
       "                        <td id=\"T_3ccb6b48_1bf7_11eb_b08a_b42e99813c1arow1_col2\" class=\"data row1 col2\" >1.0000</td>\n",
       "                        <td id=\"T_3ccb6b48_1bf7_11eb_b08a_b42e99813c1arow1_col3\" class=\"data row1 col3\" >1.0000</td>\n",
       "                        <td id=\"T_3ccb6b48_1bf7_11eb_b08a_b42e99813c1arow1_col4\" class=\"data row1 col4\" >1.0000</td>\n",
       "                        <td id=\"T_3ccb6b48_1bf7_11eb_b08a_b42e99813c1arow1_col5\" class=\"data row1 col5\" >1.0000</td>\n",
       "                        <td id=\"T_3ccb6b48_1bf7_11eb_b08a_b42e99813c1arow1_col6\" class=\"data row1 col6\" >1.0000</td>\n",
       "            </tr>\n",
       "            <tr>\n",
       "                        <th id=\"T_3ccb6b48_1bf7_11eb_b08a_b42e99813c1alevel0_row2\" class=\"row_heading level0 row2\" >2</th>\n",
       "                        <td id=\"T_3ccb6b48_1bf7_11eb_b08a_b42e99813c1arow2_col0\" class=\"data row2 col0\" >1.0000</td>\n",
       "                        <td id=\"T_3ccb6b48_1bf7_11eb_b08a_b42e99813c1arow2_col1\" class=\"data row2 col1\" >1.0000</td>\n",
       "                        <td id=\"T_3ccb6b48_1bf7_11eb_b08a_b42e99813c1arow2_col2\" class=\"data row2 col2\" >1.0000</td>\n",
       "                        <td id=\"T_3ccb6b48_1bf7_11eb_b08a_b42e99813c1arow2_col3\" class=\"data row2 col3\" >1.0000</td>\n",
       "                        <td id=\"T_3ccb6b48_1bf7_11eb_b08a_b42e99813c1arow2_col4\" class=\"data row2 col4\" >1.0000</td>\n",
       "                        <td id=\"T_3ccb6b48_1bf7_11eb_b08a_b42e99813c1arow2_col5\" class=\"data row2 col5\" >1.0000</td>\n",
       "                        <td id=\"T_3ccb6b48_1bf7_11eb_b08a_b42e99813c1arow2_col6\" class=\"data row2 col6\" >1.0000</td>\n",
       "            </tr>\n",
       "            <tr>\n",
       "                        <th id=\"T_3ccb6b48_1bf7_11eb_b08a_b42e99813c1alevel0_row3\" class=\"row_heading level0 row3\" >3</th>\n",
       "                        <td id=\"T_3ccb6b48_1bf7_11eb_b08a_b42e99813c1arow3_col0\" class=\"data row3 col0\" >0.7500</td>\n",
       "                        <td id=\"T_3ccb6b48_1bf7_11eb_b08a_b42e99813c1arow3_col1\" class=\"data row3 col1\" >1.0000</td>\n",
       "                        <td id=\"T_3ccb6b48_1bf7_11eb_b08a_b42e99813c1arow3_col2\" class=\"data row3 col2\" >0.6667</td>\n",
       "                        <td id=\"T_3ccb6b48_1bf7_11eb_b08a_b42e99813c1arow3_col3\" class=\"data row3 col3\" >0.6250</td>\n",
       "                        <td id=\"T_3ccb6b48_1bf7_11eb_b08a_b42e99813c1arow3_col4\" class=\"data row3 col4\" >0.6667</td>\n",
       "                        <td id=\"T_3ccb6b48_1bf7_11eb_b08a_b42e99813c1arow3_col5\" class=\"data row3 col5\" >0.6000</td>\n",
       "                        <td id=\"T_3ccb6b48_1bf7_11eb_b08a_b42e99813c1arow3_col6\" class=\"data row3 col6\" >0.6708</td>\n",
       "            </tr>\n",
       "            <tr>\n",
       "                        <th id=\"T_3ccb6b48_1bf7_11eb_b08a_b42e99813c1alevel0_row4\" class=\"row_heading level0 row4\" >4</th>\n",
       "                        <td id=\"T_3ccb6b48_1bf7_11eb_b08a_b42e99813c1arow4_col0\" class=\"data row4 col0\" >0.8750</td>\n",
       "                        <td id=\"T_3ccb6b48_1bf7_11eb_b08a_b42e99813c1arow4_col1\" class=\"data row4 col1\" >0.9542</td>\n",
       "                        <td id=\"T_3ccb6b48_1bf7_11eb_b08a_b42e99813c1arow4_col2\" class=\"data row4 col2\" >0.8333</td>\n",
       "                        <td id=\"T_3ccb6b48_1bf7_11eb_b08a_b42e99813c1arow4_col3\" class=\"data row4 col3\" >0.9062</td>\n",
       "                        <td id=\"T_3ccb6b48_1bf7_11eb_b08a_b42e99813c1arow4_col4\" class=\"data row4 col4\" >0.8631</td>\n",
       "                        <td id=\"T_3ccb6b48_1bf7_11eb_b08a_b42e99813c1arow4_col5\" class=\"data row4 col5\" >0.8049</td>\n",
       "                        <td id=\"T_3ccb6b48_1bf7_11eb_b08a_b42e99813c1arow4_col6\" class=\"data row4 col6\" >0.8260</td>\n",
       "            </tr>\n",
       "            <tr>\n",
       "                        <th id=\"T_3ccb6b48_1bf7_11eb_b08a_b42e99813c1alevel0_row5\" class=\"row_heading level0 row5\" >5</th>\n",
       "                        <td id=\"T_3ccb6b48_1bf7_11eb_b08a_b42e99813c1arow5_col0\" class=\"data row5 col0\" >1.0000</td>\n",
       "                        <td id=\"T_3ccb6b48_1bf7_11eb_b08a_b42e99813c1arow5_col1\" class=\"data row5 col1\" >1.0000</td>\n",
       "                        <td id=\"T_3ccb6b48_1bf7_11eb_b08a_b42e99813c1arow5_col2\" class=\"data row5 col2\" >1.0000</td>\n",
       "                        <td id=\"T_3ccb6b48_1bf7_11eb_b08a_b42e99813c1arow5_col3\" class=\"data row5 col3\" >1.0000</td>\n",
       "                        <td id=\"T_3ccb6b48_1bf7_11eb_b08a_b42e99813c1arow5_col4\" class=\"data row5 col4\" >1.0000</td>\n",
       "                        <td id=\"T_3ccb6b48_1bf7_11eb_b08a_b42e99813c1arow5_col5\" class=\"data row5 col5\" >1.0000</td>\n",
       "                        <td id=\"T_3ccb6b48_1bf7_11eb_b08a_b42e99813c1arow5_col6\" class=\"data row5 col6\" >1.0000</td>\n",
       "            </tr>\n",
       "            <tr>\n",
       "                        <th id=\"T_3ccb6b48_1bf7_11eb_b08a_b42e99813c1alevel0_row6\" class=\"row_heading level0 row6\" >6</th>\n",
       "                        <td id=\"T_3ccb6b48_1bf7_11eb_b08a_b42e99813c1arow6_col0\" class=\"data row6 col0\" >1.0000</td>\n",
       "                        <td id=\"T_3ccb6b48_1bf7_11eb_b08a_b42e99813c1arow6_col1\" class=\"data row6 col1\" >1.0000</td>\n",
       "                        <td id=\"T_3ccb6b48_1bf7_11eb_b08a_b42e99813c1arow6_col2\" class=\"data row6 col2\" >1.0000</td>\n",
       "                        <td id=\"T_3ccb6b48_1bf7_11eb_b08a_b42e99813c1arow6_col3\" class=\"data row6 col3\" >1.0000</td>\n",
       "                        <td id=\"T_3ccb6b48_1bf7_11eb_b08a_b42e99813c1arow6_col4\" class=\"data row6 col4\" >1.0000</td>\n",
       "                        <td id=\"T_3ccb6b48_1bf7_11eb_b08a_b42e99813c1arow6_col5\" class=\"data row6 col5\" >1.0000</td>\n",
       "                        <td id=\"T_3ccb6b48_1bf7_11eb_b08a_b42e99813c1arow6_col6\" class=\"data row6 col6\" >1.0000</td>\n",
       "            </tr>\n",
       "            <tr>\n",
       "                        <th id=\"T_3ccb6b48_1bf7_11eb_b08a_b42e99813c1alevel0_row7\" class=\"row_heading level0 row7\" >7</th>\n",
       "                        <td id=\"T_3ccb6b48_1bf7_11eb_b08a_b42e99813c1arow7_col0\" class=\"data row7 col0\" >1.0000</td>\n",
       "                        <td id=\"T_3ccb6b48_1bf7_11eb_b08a_b42e99813c1arow7_col1\" class=\"data row7 col1\" >1.0000</td>\n",
       "                        <td id=\"T_3ccb6b48_1bf7_11eb_b08a_b42e99813c1arow7_col2\" class=\"data row7 col2\" >1.0000</td>\n",
       "                        <td id=\"T_3ccb6b48_1bf7_11eb_b08a_b42e99813c1arow7_col3\" class=\"data row7 col3\" >1.0000</td>\n",
       "                        <td id=\"T_3ccb6b48_1bf7_11eb_b08a_b42e99813c1arow7_col4\" class=\"data row7 col4\" >1.0000</td>\n",
       "                        <td id=\"T_3ccb6b48_1bf7_11eb_b08a_b42e99813c1arow7_col5\" class=\"data row7 col5\" >1.0000</td>\n",
       "                        <td id=\"T_3ccb6b48_1bf7_11eb_b08a_b42e99813c1arow7_col6\" class=\"data row7 col6\" >1.0000</td>\n",
       "            </tr>\n",
       "            <tr>\n",
       "                        <th id=\"T_3ccb6b48_1bf7_11eb_b08a_b42e99813c1alevel0_row8\" class=\"row_heading level0 row8\" >8</th>\n",
       "                        <td id=\"T_3ccb6b48_1bf7_11eb_b08a_b42e99813c1arow8_col0\" class=\"data row8 col0\" >1.0000</td>\n",
       "                        <td id=\"T_3ccb6b48_1bf7_11eb_b08a_b42e99813c1arow8_col1\" class=\"data row8 col1\" >1.0000</td>\n",
       "                        <td id=\"T_3ccb6b48_1bf7_11eb_b08a_b42e99813c1arow8_col2\" class=\"data row8 col2\" >1.0000</td>\n",
       "                        <td id=\"T_3ccb6b48_1bf7_11eb_b08a_b42e99813c1arow8_col3\" class=\"data row8 col3\" >1.0000</td>\n",
       "                        <td id=\"T_3ccb6b48_1bf7_11eb_b08a_b42e99813c1arow8_col4\" class=\"data row8 col4\" >1.0000</td>\n",
       "                        <td id=\"T_3ccb6b48_1bf7_11eb_b08a_b42e99813c1arow8_col5\" class=\"data row8 col5\" >1.0000</td>\n",
       "                        <td id=\"T_3ccb6b48_1bf7_11eb_b08a_b42e99813c1arow8_col6\" class=\"data row8 col6\" >1.0000</td>\n",
       "            </tr>\n",
       "            <tr>\n",
       "                        <th id=\"T_3ccb6b48_1bf7_11eb_b08a_b42e99813c1alevel0_row9\" class=\"row_heading level0 row9\" >9</th>\n",
       "                        <td id=\"T_3ccb6b48_1bf7_11eb_b08a_b42e99813c1arow9_col0\" class=\"data row9 col0\" >1.0000</td>\n",
       "                        <td id=\"T_3ccb6b48_1bf7_11eb_b08a_b42e99813c1arow9_col1\" class=\"data row9 col1\" >1.0000</td>\n",
       "                        <td id=\"T_3ccb6b48_1bf7_11eb_b08a_b42e99813c1arow9_col2\" class=\"data row9 col2\" >1.0000</td>\n",
       "                        <td id=\"T_3ccb6b48_1bf7_11eb_b08a_b42e99813c1arow9_col3\" class=\"data row9 col3\" >1.0000</td>\n",
       "                        <td id=\"T_3ccb6b48_1bf7_11eb_b08a_b42e99813c1arow9_col4\" class=\"data row9 col4\" >1.0000</td>\n",
       "                        <td id=\"T_3ccb6b48_1bf7_11eb_b08a_b42e99813c1arow9_col5\" class=\"data row9 col5\" >1.0000</td>\n",
       "                        <td id=\"T_3ccb6b48_1bf7_11eb_b08a_b42e99813c1arow9_col6\" class=\"data row9 col6\" >1.0000</td>\n",
       "            </tr>\n",
       "            <tr>\n",
       "                        <th id=\"T_3ccb6b48_1bf7_11eb_b08a_b42e99813c1alevel0_row10\" class=\"row_heading level0 row10\" >Mean</th>\n",
       "                        <td id=\"T_3ccb6b48_1bf7_11eb_b08a_b42e99813c1arow10_col0\" class=\"data row10 col0\" >0.9625</td>\n",
       "                        <td id=\"T_3ccb6b48_1bf7_11eb_b08a_b42e99813c1arow10_col1\" class=\"data row10 col1\" >0.9954</td>\n",
       "                        <td id=\"T_3ccb6b48_1bf7_11eb_b08a_b42e99813c1arow10_col2\" class=\"data row10 col2\" >0.9500</td>\n",
       "                        <td id=\"T_3ccb6b48_1bf7_11eb_b08a_b42e99813c1arow10_col3\" class=\"data row10 col3\" >0.9531</td>\n",
       "                        <td id=\"T_3ccb6b48_1bf7_11eb_b08a_b42e99813c1arow10_col4\" class=\"data row10 col4\" >0.9530</td>\n",
       "                        <td id=\"T_3ccb6b48_1bf7_11eb_b08a_b42e99813c1arow10_col5\" class=\"data row10 col5\" >0.9405</td>\n",
       "                        <td id=\"T_3ccb6b48_1bf7_11eb_b08a_b42e99813c1arow10_col6\" class=\"data row10 col6\" >0.9497</td>\n",
       "            </tr>\n",
       "            <tr>\n",
       "                        <th id=\"T_3ccb6b48_1bf7_11eb_b08a_b42e99813c1alevel0_row11\" class=\"row_heading level0 row11\" >SD</th>\n",
       "                        <td id=\"T_3ccb6b48_1bf7_11eb_b08a_b42e99813c1arow11_col0\" class=\"data row11 col0\" >0.0800</td>\n",
       "                        <td id=\"T_3ccb6b48_1bf7_11eb_b08a_b42e99813c1arow11_col1\" class=\"data row11 col1\" >0.0137</td>\n",
       "                        <td id=\"T_3ccb6b48_1bf7_11eb_b08a_b42e99813c1arow11_col2\" class=\"data row11 col2\" >0.1067</td>\n",
       "                        <td id=\"T_3ccb6b48_1bf7_11eb_b08a_b42e99813c1arow11_col3\" class=\"data row11 col3\" >0.1129</td>\n",
       "                        <td id=\"T_3ccb6b48_1bf7_11eb_b08a_b42e99813c1arow11_col4\" class=\"data row11 col4\" >0.1038</td>\n",
       "                        <td id=\"T_3ccb6b48_1bf7_11eb_b08a_b42e99813c1arow11_col5\" class=\"data row11 col5\" >0.1275</td>\n",
       "                        <td id=\"T_3ccb6b48_1bf7_11eb_b08a_b42e99813c1arow11_col6\" class=\"data row11 col6\" >0.1064</td>\n",
       "            </tr>\n",
       "    </tbody></table>"
      ],
      "text/plain": [
       "<pandas.io.formats.style.Styler at 0x7f5a78f12e20>"
      ]
     },
     "metadata": {},
     "output_type": "display_data"
    }
   ],
   "source": [
    "qda_model = create_model(\"qda\")"
   ]
  },
  {
   "cell_type": "code",
   "execution_count": 37,
   "metadata": {},
   "outputs": [
    {
     "data": {
      "text/plain": [
       "QuadraticDiscriminantAnalysis(priors=None, reg_param=0.0,\n",
       "                              store_covariance=False, tol=0.0001)"
      ]
     },
     "execution_count": 37,
     "metadata": {},
     "output_type": "execute_result"
    }
   ],
   "source": [
    "qda_model"
   ]
  },
  {
   "cell_type": "markdown",
   "metadata": {},
   "source": [
    "## prepare test data"
   ]
  },
  {
   "cell_type": "code",
   "execution_count": 38,
   "metadata": {},
   "outputs": [
    {
     "data": {
      "text/html": [
       "<div>\n",
       "<style scoped>\n",
       "    .dataframe tbody tr th:only-of-type {\n",
       "        vertical-align: middle;\n",
       "    }\n",
       "\n",
       "    .dataframe tbody tr th {\n",
       "        vertical-align: top;\n",
       "    }\n",
       "\n",
       "    .dataframe thead th {\n",
       "        text-align: right;\n",
       "    }\n",
       "</style>\n",
       "<table border=\"1\" class=\"dataframe\">\n",
       "  <thead>\n",
       "    <tr style=\"text-align: right;\">\n",
       "      <th></th>\n",
       "      <th>SepalLengthCm</th>\n",
       "      <th>SepalWidthCm</th>\n",
       "      <th>PetalLengthCm</th>\n",
       "      <th>PetalWidthCm</th>\n",
       "      <th>Species</th>\n",
       "      <th>Species_code</th>\n",
       "    </tr>\n",
       "    <tr>\n",
       "      <th>Id</th>\n",
       "      <th></th>\n",
       "      <th></th>\n",
       "      <th></th>\n",
       "      <th></th>\n",
       "      <th></th>\n",
       "      <th></th>\n",
       "    </tr>\n",
       "  </thead>\n",
       "  <tbody>\n",
       "    <tr>\n",
       "      <th>6</th>\n",
       "      <td>5.4</td>\n",
       "      <td>3.9</td>\n",
       "      <td>1.7</td>\n",
       "      <td>0.4</td>\n",
       "      <td>Iris-setosa</td>\n",
       "      <td>0</td>\n",
       "    </tr>\n",
       "    <tr>\n",
       "      <th>12</th>\n",
       "      <td>4.8</td>\n",
       "      <td>3.4</td>\n",
       "      <td>1.6</td>\n",
       "      <td>0.2</td>\n",
       "      <td>Iris-setosa</td>\n",
       "      <td>0</td>\n",
       "    </tr>\n",
       "    <tr>\n",
       "      <th>21</th>\n",
       "      <td>5.4</td>\n",
       "      <td>3.4</td>\n",
       "      <td>1.7</td>\n",
       "      <td>0.2</td>\n",
       "      <td>Iris-setosa</td>\n",
       "      <td>0</td>\n",
       "    </tr>\n",
       "    <tr>\n",
       "      <th>24</th>\n",
       "      <td>5.1</td>\n",
       "      <td>3.3</td>\n",
       "      <td>1.7</td>\n",
       "      <td>0.5</td>\n",
       "      <td>Iris-setosa</td>\n",
       "      <td>0</td>\n",
       "    </tr>\n",
       "    <tr>\n",
       "      <th>31</th>\n",
       "      <td>4.8</td>\n",
       "      <td>3.1</td>\n",
       "      <td>1.6</td>\n",
       "      <td>0.2</td>\n",
       "      <td>Iris-setosa</td>\n",
       "      <td>0</td>\n",
       "    </tr>\n",
       "  </tbody>\n",
       "</table>\n",
       "</div>"
      ],
      "text/plain": [
       "    SepalLengthCm  SepalWidthCm  PetalLengthCm  PetalWidthCm      Species  \\\n",
       "Id                                                                          \n",
       "6             5.4           3.9            1.7           0.4  Iris-setosa   \n",
       "12            4.8           3.4            1.6           0.2  Iris-setosa   \n",
       "21            5.4           3.4            1.7           0.2  Iris-setosa   \n",
       "24            5.1           3.3            1.7           0.5  Iris-setosa   \n",
       "31            4.8           3.1            1.6           0.2  Iris-setosa   \n",
       "\n",
       "    Species_code  \n",
       "Id                \n",
       "6              0  \n",
       "12             0  \n",
       "21             0  \n",
       "24             0  \n",
       "31             0  "
      ]
     },
     "execution_count": 38,
     "metadata": {},
     "output_type": "execute_result"
    }
   ],
   "source": [
    "data_test.head()"
   ]
  },
  {
   "cell_type": "code",
   "execution_count": 39,
   "metadata": {},
   "outputs": [],
   "source": [
    "test_x = data_test.drop([\"Species\", \"Species_code\"], axis=1)"
   ]
  },
  {
   "cell_type": "code",
   "execution_count": 40,
   "metadata": {},
   "outputs": [],
   "source": [
    "test_y = data_test[[\"Species_code\"]]"
   ]
  },
  {
   "cell_type": "code",
   "execution_count": 41,
   "metadata": {},
   "outputs": [
    {
     "data": {
      "text/html": [
       "<div>\n",
       "<style scoped>\n",
       "    .dataframe tbody tr th:only-of-type {\n",
       "        vertical-align: middle;\n",
       "    }\n",
       "\n",
       "    .dataframe tbody tr th {\n",
       "        vertical-align: top;\n",
       "    }\n",
       "\n",
       "    .dataframe thead th {\n",
       "        text-align: right;\n",
       "    }\n",
       "</style>\n",
       "<table border=\"1\" class=\"dataframe\">\n",
       "  <thead>\n",
       "    <tr style=\"text-align: right;\">\n",
       "      <th></th>\n",
       "      <th>SepalLengthCm</th>\n",
       "      <th>SepalWidthCm</th>\n",
       "      <th>PetalLengthCm</th>\n",
       "      <th>PetalWidthCm</th>\n",
       "    </tr>\n",
       "    <tr>\n",
       "      <th>Id</th>\n",
       "      <th></th>\n",
       "      <th></th>\n",
       "      <th></th>\n",
       "      <th></th>\n",
       "    </tr>\n",
       "  </thead>\n",
       "  <tbody>\n",
       "    <tr>\n",
       "      <th>6</th>\n",
       "      <td>5.4</td>\n",
       "      <td>3.9</td>\n",
       "      <td>1.7</td>\n",
       "      <td>0.4</td>\n",
       "    </tr>\n",
       "    <tr>\n",
       "      <th>12</th>\n",
       "      <td>4.8</td>\n",
       "      <td>3.4</td>\n",
       "      <td>1.6</td>\n",
       "      <td>0.2</td>\n",
       "    </tr>\n",
       "    <tr>\n",
       "      <th>21</th>\n",
       "      <td>5.4</td>\n",
       "      <td>3.4</td>\n",
       "      <td>1.7</td>\n",
       "      <td>0.2</td>\n",
       "    </tr>\n",
       "    <tr>\n",
       "      <th>24</th>\n",
       "      <td>5.1</td>\n",
       "      <td>3.3</td>\n",
       "      <td>1.7</td>\n",
       "      <td>0.5</td>\n",
       "    </tr>\n",
       "    <tr>\n",
       "      <th>31</th>\n",
       "      <td>4.8</td>\n",
       "      <td>3.1</td>\n",
       "      <td>1.6</td>\n",
       "      <td>0.2</td>\n",
       "    </tr>\n",
       "  </tbody>\n",
       "</table>\n",
       "</div>"
      ],
      "text/plain": [
       "    SepalLengthCm  SepalWidthCm  PetalLengthCm  PetalWidthCm\n",
       "Id                                                          \n",
       "6             5.4           3.9            1.7           0.4\n",
       "12            4.8           3.4            1.6           0.2\n",
       "21            5.4           3.4            1.7           0.2\n",
       "24            5.1           3.3            1.7           0.5\n",
       "31            4.8           3.1            1.6           0.2"
      ]
     },
     "execution_count": 41,
     "metadata": {},
     "output_type": "execute_result"
    }
   ],
   "source": [
    "test_x.head()"
   ]
  },
  {
   "cell_type": "code",
   "execution_count": 42,
   "metadata": {},
   "outputs": [
    {
     "data": {
      "text/html": [
       "<div>\n",
       "<style scoped>\n",
       "    .dataframe tbody tr th:only-of-type {\n",
       "        vertical-align: middle;\n",
       "    }\n",
       "\n",
       "    .dataframe tbody tr th {\n",
       "        vertical-align: top;\n",
       "    }\n",
       "\n",
       "    .dataframe thead th {\n",
       "        text-align: right;\n",
       "    }\n",
       "</style>\n",
       "<table border=\"1\" class=\"dataframe\">\n",
       "  <thead>\n",
       "    <tr style=\"text-align: right;\">\n",
       "      <th></th>\n",
       "      <th>Species_code</th>\n",
       "    </tr>\n",
       "    <tr>\n",
       "      <th>Id</th>\n",
       "      <th></th>\n",
       "    </tr>\n",
       "  </thead>\n",
       "  <tbody>\n",
       "    <tr>\n",
       "      <th>6</th>\n",
       "      <td>0</td>\n",
       "    </tr>\n",
       "    <tr>\n",
       "      <th>12</th>\n",
       "      <td>0</td>\n",
       "    </tr>\n",
       "    <tr>\n",
       "      <th>21</th>\n",
       "      <td>0</td>\n",
       "    </tr>\n",
       "    <tr>\n",
       "      <th>24</th>\n",
       "      <td>0</td>\n",
       "    </tr>\n",
       "    <tr>\n",
       "      <th>31</th>\n",
       "      <td>0</td>\n",
       "    </tr>\n",
       "  </tbody>\n",
       "</table>\n",
       "</div>"
      ],
      "text/plain": [
       "    Species_code\n",
       "Id              \n",
       "6              0\n",
       "12             0\n",
       "21             0\n",
       "24             0\n",
       "31             0"
      ]
     },
     "execution_count": 42,
     "metadata": {},
     "output_type": "execute_result"
    }
   ],
   "source": [
    "test_y.head()"
   ]
  },
  {
   "cell_type": "markdown",
   "metadata": {},
   "source": [
    "## Evaluation"
   ]
  },
  {
   "cell_type": "markdown",
   "metadata": {},
   "source": [
    "On Naive Bayes model"
   ]
  },
  {
   "cell_type": "code",
   "execution_count": 43,
   "metadata": {},
   "outputs": [],
   "source": [
    "# finalize_model ready for deploy in production\n",
    "final_nb_model = finalize_model(nb_model)"
   ]
  },
  {
   "cell_type": "code",
   "execution_count": 44,
   "metadata": {},
   "outputs": [],
   "source": [
    "y_pred_1 = final_nb_model.predict(test_x)"
   ]
  },
  {
   "cell_type": "code",
   "execution_count": 45,
   "metadata": {},
   "outputs": [
    {
     "data": {
      "text/plain": [
       "array([0, 0, 0, 0, 0, 0, 1, 1, 1, 1, 1, 1, 1, 1, 1, 1, 1, 2, 2, 2, 2, 2,\n",
       "       2, 2, 2, 1, 2, 2, 2, 2], dtype=int8)"
      ]
     },
     "execution_count": 45,
     "metadata": {},
     "output_type": "execute_result"
    }
   ],
   "source": [
    "y_pred_1"
   ]
  },
  {
   "cell_type": "code",
   "execution_count": 46,
   "metadata": {},
   "outputs": [
    {
     "name": "stdout",
     "output_type": "stream",
     "text": [
      "              precision    recall  f1-score   support\n",
      "\n",
      "           0       1.00      1.00      1.00         6\n",
      "           1       0.92      1.00      0.96        11\n",
      "           2       1.00      0.92      0.96        13\n",
      "\n",
      "    accuracy                           0.97        30\n",
      "   macro avg       0.97      0.97      0.97        30\n",
      "weighted avg       0.97      0.97      0.97        30\n",
      "\n"
     ]
    }
   ],
   "source": [
    "print(classification_report(test_y, y_pred_1))"
   ]
  },
  {
   "cell_type": "code",
   "execution_count": 47,
   "metadata": {},
   "outputs": [
    {
     "data": {
      "text/plain": [
       "array([0, 0, 0, 0, 0, 0, 1, 1, 1, 1, 1, 1, 1, 1, 1, 1, 1, 2, 2, 2, 2, 2,\n",
       "       2, 2, 2, 1, 2, 2, 2, 2], dtype=int8)"
      ]
     },
     "execution_count": 47,
     "metadata": {},
     "output_type": "execute_result"
    }
   ],
   "source": [
    "y_pred_1"
   ]
  },
  {
   "cell_type": "markdown",
   "metadata": {},
   "source": [
    "On qda model "
   ]
  },
  {
   "cell_type": "code",
   "execution_count": 48,
   "metadata": {},
   "outputs": [],
   "source": [
    "# finalize_model ready for deploy in production\n",
    "final_qda_model = finalize_model(qda_model)"
   ]
  },
  {
   "cell_type": "code",
   "execution_count": 49,
   "metadata": {},
   "outputs": [],
   "source": [
    "y_pred_2 = final_qda_model.predict(test_x)"
   ]
  },
  {
   "cell_type": "code",
   "execution_count": 50,
   "metadata": {},
   "outputs": [
    {
     "name": "stdout",
     "output_type": "stream",
     "text": [
      "              precision    recall  f1-score   support\n",
      "\n",
      "           0       1.00      1.00      1.00         6\n",
      "           1       1.00      1.00      1.00        11\n",
      "           2       1.00      1.00      1.00        13\n",
      "\n",
      "    accuracy                           1.00        30\n",
      "   macro avg       1.00      1.00      1.00        30\n",
      "weighted avg       1.00      1.00      1.00        30\n",
      "\n"
     ]
    }
   ],
   "source": [
    "print(classification_report(test_y, y_pred_2))"
   ]
  },
  {
   "cell_type": "code",
   "execution_count": null,
   "metadata": {},
   "outputs": [],
   "source": []
  }
 ],
 "metadata": {
  "kernelspec": {
   "display_name": "Python 3",
   "language": "python",
   "name": "python3"
  },
  "language_info": {
   "codemirror_mode": {
    "name": "ipython",
    "version": 3
   },
   "file_extension": ".py",
   "mimetype": "text/x-python",
   "name": "python",
   "nbconvert_exporter": "python",
   "pygments_lexer": "ipython3",
   "version": "3.8.5"
  }
 },
 "nbformat": 4,
 "nbformat_minor": 4
}
